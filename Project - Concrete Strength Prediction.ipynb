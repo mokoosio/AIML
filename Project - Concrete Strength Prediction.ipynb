{
 "cells": [
  {
   "cell_type": "markdown",
   "metadata": {},
   "source": [
    "# Concrete Strength Prediction"
   ]
  },
  {
   "cell_type": "markdown",
   "metadata": {},
   "source": [
    "### Goal:\n",
    "\n",
    "To predict the concrete strength using the data available in file \"concrete.csv\". Apply feature engineering and model tuning to obtain a score above 85%.\n",
    "\n",
    "### Steps and Tasks:\n",
    "\n",
    "#### Exploratory Data Quality Report Reflecting the Following:\n",
    "1. Univariate analysis –data types and description of the independent attributes which should include (name, range of values observed, central values (mean and median), standard deviation and quartiles, analysis of the body of distributions/tails, missing values, outliers, duplicates(10 Marks).<br>\n",
    "\n",
    "2. Bi-variate analysis between the predictor variables and between the predictor variables and target column. Comment on your findings in terms of their relationship and degree of relation if any. Visualize the analysis using boxplots and pair plots, histograms, or density curves. (10 marks)<br>\n",
    "\n",
    "3. Feature Engineering techniques(10 marks)<br>\n",
    "\n",
    "    a. Identify opportunities (if any) to extract new features from existing features, drop a feature(if required) Hint: Feature Extraction, for example, consider a dataset with two features length and breadth. From this, we can extract a new feature Area which would be length * breadth<br>\n",
    "\n",
    "    b. Get the data model ready and do a train test split.<br>\n",
    "\n",
    "    c. Decide on the complexity of the model, should it be a simple linear model in terms of parameters or would a quadratic or higher degree.<br>\n",
    "\n",
    "\n",
    "#### Creating the Model and Tuning It:\n",
    "1. Algorithms that you think will be suitable for this project. Use Kfold Cross-Validation to evaluate model performance. Use appropriate metrics and make a DataFrame to compare models w.r.t their metrics. (at least 3 algorithms, one bagging and one boosting based algorithms have to be there). (15 marks)<br>\n",
    "2. Techniques employed to squeeze that extra performance out of the model without making it overfit. Use Grid Search or Random Search on any of the two models used above. Make a DataFrame to compare models after hyperparameter tuning and their metrics as above. (15 marks)<br>\n",
    "\n",
    "\n",
    "### Attribute Information:\n",
    "\n",
    "Given are the variable name, variable type, the measurement unit, and a brief description. The concrete compressive strength is the regression problem. The order of this listing corresponds to the order of numerals along the rows of the database.<br><br>\n",
    "\n",
    "<table>\n",
    "  <thead>\n",
    "    <tr>\n",
    "      <th>Name</th>\n",
    "      <th>Data Type</th>\n",
    "      <th>Measurement</th>\n",
    "      <th>Description</th>\n",
    "    </tr>\n",
    "  </thead>\n",
    "  <tbody>\n",
    "    <tr>\n",
    "      <td>Cement (cement)</td>\n",
    "      <td>quantitative</td>\n",
    "      <td>kg in a m3 mixture</td>\n",
    "      <td>Input Variable</td>\n",
    "    </tr>\n",
    "    <tr>\n",
    "      <td>Blast Furnace Slag (slag)</td>\n",
    "      <td>quantitative</td>\n",
    "      <td>kg in a m3 mixture</td>\n",
    "      <td>Input Variable</td>\n",
    "    </tr>\n",
    "    <tr>\n",
    "      <td>Fly Ash (ash)</td>\n",
    "      <td>quantitative</td>\n",
    "      <td>kg in a m3 mixture</td>\n",
    "      <td>Input Variable</td>\n",
    "    </tr>\n",
    "    <tr>\n",
    "      <td>Water(water)</td>\n",
    "      <td>quantitative</td>\n",
    "      <td>kg in a m3 mixture</td>\n",
    "      <td>Input Variable</td>\n",
    "    </tr>\n",
    "    <tr>\n",
    "      <td>Superplasticizer (superplastic)</td>\n",
    "      <td>quantitative</td>\n",
    "      <td>kg in a m3 mixture</td>\n",
    "      <td>Input Variable</td>\n",
    "    </tr>\n",
    "    <tr>\n",
    "      <td>Coarse Aggregate (coarseagg)</td>\n",
    "      <td>quantitative</td>\n",
    "      <td>kg in a m3 mixture</td>\n",
    "      <td>Input Variable</td>\n",
    "    </tr>\n",
    "    <tr>\n",
    "      <td>Fine Aggregate (fineagg)</td>\n",
    "      <td>quantitative</td>\n",
    "      <td>kg in a m3 mixture</td>\n",
    "      <td>Input Variable</td>\n",
    "    </tr>\n",
    "    <tr>\n",
    "      <td>Age(age)</td>\n",
    "      <td>quantitative</td>\n",
    "      <td>Day (1~365)</td>\n",
    "      <td>Input Variable</td>\n",
    "    </tr>\n",
    "    <tr>\n",
    "      <td>Concrete compressive strength(strength)</td>\n",
    "      <td>quantitative</td>\n",
    "      <td>MPa</td>\n",
    "      <td>Output Variable</td>\n",
    "    </tr>\n",
    "  </tbody>\n",
    "</table>"
   ]
  },
  {
   "cell_type": "markdown",
   "metadata": {},
   "source": [
    "# Import all necessary modules and load the data"
   ]
  },
  {
   "cell_type": "code",
   "execution_count": 1,
   "metadata": {},
   "outputs": [],
   "source": [
    "%matplotlib inline\n",
    "import numpy as np\n",
    "import pandas as pd\n",
    "from sklearn.tree import DecisionTreeClassifier\n",
    "import numpy as np\n",
    "import pandas as pd\n",
    "import seaborn as sns\n",
    "from matplotlib import pyplot as plt\n",
    "from sklearn.model_selection import train_test_split\n",
    "from sklearn.tree import DecisionTreeClassifier\n",
    "from sklearn import metrics\n",
    "from sklearn.metrics import accuracy_score,f1_score,recall_score,precision_score, confusion_matrix\n",
    "%matplotlib inline\n",
    "\n",
    "import warnings\n",
    "warnings.filterwarnings('ignore')\n",
    "\n",
    "from sklearn.feature_extraction.text import CountVectorizer  #DT does not take strings as input for the model fit step...."
   ]
  },
  {
   "cell_type": "code",
   "execution_count": 2,
   "metadata": {},
   "outputs": [],
   "source": [
    "#Load data\n",
    "df = pd.read_csv(\"concrete.csv\")"
   ]
  },
  {
   "cell_type": "code",
   "execution_count": 3,
   "metadata": {},
   "outputs": [
    {
     "data": {
      "text/plain": [
       "(1030, 9)"
      ]
     },
     "execution_count": 3,
     "metadata": {},
     "output_type": "execute_result"
    }
   ],
   "source": [
    "df.shape # Check number of columns and rows in data frame"
   ]
  },
  {
   "cell_type": "code",
   "execution_count": 4,
   "metadata": {},
   "outputs": [
    {
     "data": {
      "text/html": [
       "<div>\n",
       "<style scoped>\n",
       "    .dataframe tbody tr th:only-of-type {\n",
       "        vertical-align: middle;\n",
       "    }\n",
       "\n",
       "    .dataframe tbody tr th {\n",
       "        vertical-align: top;\n",
       "    }\n",
       "\n",
       "    .dataframe thead th {\n",
       "        text-align: right;\n",
       "    }\n",
       "</style>\n",
       "<table border=\"1\" class=\"dataframe\">\n",
       "  <thead>\n",
       "    <tr style=\"text-align: right;\">\n",
       "      <th></th>\n",
       "      <th>cement</th>\n",
       "      <th>slag</th>\n",
       "      <th>ash</th>\n",
       "      <th>water</th>\n",
       "      <th>superplastic</th>\n",
       "      <th>coarseagg</th>\n",
       "      <th>fineagg</th>\n",
       "      <th>age</th>\n",
       "      <th>strength</th>\n",
       "    </tr>\n",
       "  </thead>\n",
       "  <tbody>\n",
       "    <tr>\n",
       "      <th>0</th>\n",
       "      <td>141.3</td>\n",
       "      <td>212.0</td>\n",
       "      <td>0.0</td>\n",
       "      <td>203.5</td>\n",
       "      <td>0.0</td>\n",
       "      <td>971.8</td>\n",
       "      <td>748.5</td>\n",
       "      <td>28</td>\n",
       "      <td>29.89</td>\n",
       "    </tr>\n",
       "    <tr>\n",
       "      <th>1</th>\n",
       "      <td>168.9</td>\n",
       "      <td>42.2</td>\n",
       "      <td>124.3</td>\n",
       "      <td>158.3</td>\n",
       "      <td>10.8</td>\n",
       "      <td>1080.8</td>\n",
       "      <td>796.2</td>\n",
       "      <td>14</td>\n",
       "      <td>23.51</td>\n",
       "    </tr>\n",
       "    <tr>\n",
       "      <th>2</th>\n",
       "      <td>250.0</td>\n",
       "      <td>0.0</td>\n",
       "      <td>95.7</td>\n",
       "      <td>187.4</td>\n",
       "      <td>5.5</td>\n",
       "      <td>956.9</td>\n",
       "      <td>861.2</td>\n",
       "      <td>28</td>\n",
       "      <td>29.22</td>\n",
       "    </tr>\n",
       "    <tr>\n",
       "      <th>3</th>\n",
       "      <td>266.0</td>\n",
       "      <td>114.0</td>\n",
       "      <td>0.0</td>\n",
       "      <td>228.0</td>\n",
       "      <td>0.0</td>\n",
       "      <td>932.0</td>\n",
       "      <td>670.0</td>\n",
       "      <td>28</td>\n",
       "      <td>45.85</td>\n",
       "    </tr>\n",
       "    <tr>\n",
       "      <th>4</th>\n",
       "      <td>154.8</td>\n",
       "      <td>183.4</td>\n",
       "      <td>0.0</td>\n",
       "      <td>193.3</td>\n",
       "      <td>9.1</td>\n",
       "      <td>1047.4</td>\n",
       "      <td>696.7</td>\n",
       "      <td>28</td>\n",
       "      <td>18.29</td>\n",
       "    </tr>\n",
       "    <tr>\n",
       "      <th>5</th>\n",
       "      <td>255.0</td>\n",
       "      <td>0.0</td>\n",
       "      <td>0.0</td>\n",
       "      <td>192.0</td>\n",
       "      <td>0.0</td>\n",
       "      <td>889.8</td>\n",
       "      <td>945.0</td>\n",
       "      <td>90</td>\n",
       "      <td>21.86</td>\n",
       "    </tr>\n",
       "    <tr>\n",
       "      <th>6</th>\n",
       "      <td>166.8</td>\n",
       "      <td>250.2</td>\n",
       "      <td>0.0</td>\n",
       "      <td>203.5</td>\n",
       "      <td>0.0</td>\n",
       "      <td>975.6</td>\n",
       "      <td>692.6</td>\n",
       "      <td>7</td>\n",
       "      <td>15.75</td>\n",
       "    </tr>\n",
       "    <tr>\n",
       "      <th>7</th>\n",
       "      <td>251.4</td>\n",
       "      <td>0.0</td>\n",
       "      <td>118.3</td>\n",
       "      <td>188.5</td>\n",
       "      <td>6.4</td>\n",
       "      <td>1028.4</td>\n",
       "      <td>757.7</td>\n",
       "      <td>56</td>\n",
       "      <td>36.64</td>\n",
       "    </tr>\n",
       "    <tr>\n",
       "      <th>8</th>\n",
       "      <td>296.0</td>\n",
       "      <td>0.0</td>\n",
       "      <td>0.0</td>\n",
       "      <td>192.0</td>\n",
       "      <td>0.0</td>\n",
       "      <td>1085.0</td>\n",
       "      <td>765.0</td>\n",
       "      <td>28</td>\n",
       "      <td>21.65</td>\n",
       "    </tr>\n",
       "    <tr>\n",
       "      <th>9</th>\n",
       "      <td>155.0</td>\n",
       "      <td>184.0</td>\n",
       "      <td>143.0</td>\n",
       "      <td>194.0</td>\n",
       "      <td>9.0</td>\n",
       "      <td>880.0</td>\n",
       "      <td>699.0</td>\n",
       "      <td>28</td>\n",
       "      <td>28.99</td>\n",
       "    </tr>\n",
       "  </tbody>\n",
       "</table>\n",
       "</div>"
      ],
      "text/plain": [
       "   cement   slag    ash  water  superplastic  coarseagg  fineagg  age  \\\n",
       "0   141.3  212.0    0.0  203.5           0.0      971.8    748.5   28   \n",
       "1   168.9   42.2  124.3  158.3          10.8     1080.8    796.2   14   \n",
       "2   250.0    0.0   95.7  187.4           5.5      956.9    861.2   28   \n",
       "3   266.0  114.0    0.0  228.0           0.0      932.0    670.0   28   \n",
       "4   154.8  183.4    0.0  193.3           9.1     1047.4    696.7   28   \n",
       "5   255.0    0.0    0.0  192.0           0.0      889.8    945.0   90   \n",
       "6   166.8  250.2    0.0  203.5           0.0      975.6    692.6    7   \n",
       "7   251.4    0.0  118.3  188.5           6.4     1028.4    757.7   56   \n",
       "8   296.0    0.0    0.0  192.0           0.0     1085.0    765.0   28   \n",
       "9   155.0  184.0  143.0  194.0           9.0      880.0    699.0   28   \n",
       "\n",
       "   strength  \n",
       "0     29.89  \n",
       "1     23.51  \n",
       "2     29.22  \n",
       "3     45.85  \n",
       "4     18.29  \n",
       "5     21.86  \n",
       "6     15.75  \n",
       "7     36.64  \n",
       "8     21.65  \n",
       "9     28.99  "
      ]
     },
     "execution_count": 4,
     "metadata": {},
     "output_type": "execute_result"
    }
   ],
   "source": [
    "df.head(10) # To check first 10 rows of data set"
   ]
  },
  {
   "cell_type": "code",
   "execution_count": 5,
   "metadata": {},
   "outputs": [
    {
     "data": {
      "text/plain": [
       "False"
      ]
     },
     "execution_count": 5,
     "metadata": {},
     "output_type": "execute_result"
    }
   ],
   "source": [
    "# Check whether there are any null values in data set\n",
    "df.isnull().values.any() "
   ]
  },
  {
   "cell_type": "markdown",
   "metadata": {},
   "source": [
    "##  Univariate Analysis"
   ]
  },
  {
   "cell_type": "code",
   "execution_count": 6,
   "metadata": {},
   "outputs": [
    {
     "name": "stdout",
     "output_type": "stream",
     "text": [
      "<class 'pandas.core.frame.DataFrame'>\n",
      "RangeIndex: 1030 entries, 0 to 1029\n",
      "Data columns (total 9 columns):\n",
      " #   Column        Non-Null Count  Dtype  \n",
      "---  ------        --------------  -----  \n",
      " 0   cement        1030 non-null   float64\n",
      " 1   slag          1030 non-null   float64\n",
      " 2   ash           1030 non-null   float64\n",
      " 3   water         1030 non-null   float64\n",
      " 4   superplastic  1030 non-null   float64\n",
      " 5   coarseagg     1030 non-null   float64\n",
      " 6   fineagg       1030 non-null   float64\n",
      " 7   age           1030 non-null   int64  \n",
      " 8   strength      1030 non-null   float64\n",
      "dtypes: float64(8), int64(1)\n",
      "memory usage: 72.5 KB\n",
      "None\n"
     ]
    }
   ],
   "source": [
    "#Checking data types\n",
    "print (df.info())"
   ]
  },
  {
   "cell_type": "code",
   "execution_count": 7,
   "metadata": {},
   "outputs": [
    {
     "data": {
      "text/html": [
       "<div>\n",
       "<style scoped>\n",
       "    .dataframe tbody tr th:only-of-type {\n",
       "        vertical-align: middle;\n",
       "    }\n",
       "\n",
       "    .dataframe tbody tr th {\n",
       "        vertical-align: top;\n",
       "    }\n",
       "\n",
       "    .dataframe thead th {\n",
       "        text-align: right;\n",
       "    }\n",
       "</style>\n",
       "<table border=\"1\" class=\"dataframe\">\n",
       "  <thead>\n",
       "    <tr style=\"text-align: right;\">\n",
       "      <th></th>\n",
       "      <th>cement</th>\n",
       "      <th>slag</th>\n",
       "      <th>ash</th>\n",
       "      <th>water</th>\n",
       "      <th>superplastic</th>\n",
       "      <th>coarseagg</th>\n",
       "      <th>fineagg</th>\n",
       "      <th>age</th>\n",
       "      <th>strength</th>\n",
       "    </tr>\n",
       "  </thead>\n",
       "  <tbody>\n",
       "    <tr>\n",
       "      <th>count</th>\n",
       "      <td>1030.000000</td>\n",
       "      <td>1030.000000</td>\n",
       "      <td>1030.000000</td>\n",
       "      <td>1030.000000</td>\n",
       "      <td>1030.000000</td>\n",
       "      <td>1030.000000</td>\n",
       "      <td>1030.000000</td>\n",
       "      <td>1030.000000</td>\n",
       "      <td>1030.000000</td>\n",
       "    </tr>\n",
       "    <tr>\n",
       "      <th>mean</th>\n",
       "      <td>281.167864</td>\n",
       "      <td>73.895825</td>\n",
       "      <td>54.188350</td>\n",
       "      <td>181.567282</td>\n",
       "      <td>6.204660</td>\n",
       "      <td>972.918932</td>\n",
       "      <td>773.580485</td>\n",
       "      <td>45.662136</td>\n",
       "      <td>35.817961</td>\n",
       "    </tr>\n",
       "    <tr>\n",
       "      <th>std</th>\n",
       "      <td>104.506364</td>\n",
       "      <td>86.279342</td>\n",
       "      <td>63.997004</td>\n",
       "      <td>21.354219</td>\n",
       "      <td>5.973841</td>\n",
       "      <td>77.753954</td>\n",
       "      <td>80.175980</td>\n",
       "      <td>63.169912</td>\n",
       "      <td>16.705742</td>\n",
       "    </tr>\n",
       "    <tr>\n",
       "      <th>min</th>\n",
       "      <td>102.000000</td>\n",
       "      <td>0.000000</td>\n",
       "      <td>0.000000</td>\n",
       "      <td>121.800000</td>\n",
       "      <td>0.000000</td>\n",
       "      <td>801.000000</td>\n",
       "      <td>594.000000</td>\n",
       "      <td>1.000000</td>\n",
       "      <td>2.330000</td>\n",
       "    </tr>\n",
       "    <tr>\n",
       "      <th>25%</th>\n",
       "      <td>192.375000</td>\n",
       "      <td>0.000000</td>\n",
       "      <td>0.000000</td>\n",
       "      <td>164.900000</td>\n",
       "      <td>0.000000</td>\n",
       "      <td>932.000000</td>\n",
       "      <td>730.950000</td>\n",
       "      <td>7.000000</td>\n",
       "      <td>23.710000</td>\n",
       "    </tr>\n",
       "    <tr>\n",
       "      <th>50%</th>\n",
       "      <td>272.900000</td>\n",
       "      <td>22.000000</td>\n",
       "      <td>0.000000</td>\n",
       "      <td>185.000000</td>\n",
       "      <td>6.400000</td>\n",
       "      <td>968.000000</td>\n",
       "      <td>779.500000</td>\n",
       "      <td>28.000000</td>\n",
       "      <td>34.445000</td>\n",
       "    </tr>\n",
       "    <tr>\n",
       "      <th>75%</th>\n",
       "      <td>350.000000</td>\n",
       "      <td>142.950000</td>\n",
       "      <td>118.300000</td>\n",
       "      <td>192.000000</td>\n",
       "      <td>10.200000</td>\n",
       "      <td>1029.400000</td>\n",
       "      <td>824.000000</td>\n",
       "      <td>56.000000</td>\n",
       "      <td>46.135000</td>\n",
       "    </tr>\n",
       "    <tr>\n",
       "      <th>max</th>\n",
       "      <td>540.000000</td>\n",
       "      <td>359.400000</td>\n",
       "      <td>200.100000</td>\n",
       "      <td>247.000000</td>\n",
       "      <td>32.200000</td>\n",
       "      <td>1145.000000</td>\n",
       "      <td>992.600000</td>\n",
       "      <td>365.000000</td>\n",
       "      <td>82.600000</td>\n",
       "    </tr>\n",
       "  </tbody>\n",
       "</table>\n",
       "</div>"
      ],
      "text/plain": [
       "            cement         slag          ash        water  superplastic  \\\n",
       "count  1030.000000  1030.000000  1030.000000  1030.000000   1030.000000   \n",
       "mean    281.167864    73.895825    54.188350   181.567282      6.204660   \n",
       "std     104.506364    86.279342    63.997004    21.354219      5.973841   \n",
       "min     102.000000     0.000000     0.000000   121.800000      0.000000   \n",
       "25%     192.375000     0.000000     0.000000   164.900000      0.000000   \n",
       "50%     272.900000    22.000000     0.000000   185.000000      6.400000   \n",
       "75%     350.000000   142.950000   118.300000   192.000000     10.200000   \n",
       "max     540.000000   359.400000   200.100000   247.000000     32.200000   \n",
       "\n",
       "         coarseagg      fineagg          age     strength  \n",
       "count  1030.000000  1030.000000  1030.000000  1030.000000  \n",
       "mean    972.918932   773.580485    45.662136    35.817961  \n",
       "std      77.753954    80.175980    63.169912    16.705742  \n",
       "min     801.000000   594.000000     1.000000     2.330000  \n",
       "25%     932.000000   730.950000     7.000000    23.710000  \n",
       "50%     968.000000   779.500000    28.000000    34.445000  \n",
       "75%    1029.400000   824.000000    56.000000    46.135000  \n",
       "max    1145.000000   992.600000   365.000000    82.600000  "
      ]
     },
     "execution_count": 7,
     "metadata": {},
     "output_type": "execute_result"
    }
   ],
   "source": [
    "#Statistical summary\n",
    "df.describe()"
   ]
  },
  {
   "cell_type": "code",
   "execution_count": 8,
   "metadata": {},
   "outputs": [
    {
     "data": {
      "image/png": "[encoded data removed]",
      "text/plain": [
       "<Figure size 432x288 with 1 Axes>"
      ]
     },
     "metadata": {
      "needs_background": "light"
     },
     "output_type": "display_data"
    },
    {
     "data": {
      "image/png": "[encoded data removed]",
      "text/plain": [
       "<Figure size 432x288 with 1 Axes>"
      ]
     },
     "metadata": {
      "needs_background": "light"
     },
     "output_type": "display_data"
    },
    {
     "data": {
      "image/png": "[encoded data removed]",
      "text/plain": [
       "<Figure size 432x288 with 1 Axes>"
      ]
     },
     "metadata": {
      "needs_background": "light"
     },
     "output_type": "display_data"
    },
    {
     "data": {
      "image/png": "[encoded data removed]",
      "text/plain": [
       "<Figure size 432x288 with 1 Axes>"
      ]
     },
     "metadata": {
      "needs_background": "light"
     },
     "output_type": "display_data"
    },
    {
     "data": {
      "image/png": "[encoded data removed]",
      "text/plain": [
       "<Figure size 432x288 with 1 Axes>"
      ]
     },
     "metadata": {
      "needs_background": "light"
     },
     "output_type": "display_data"
    },
    {
     "data": {
      "image/png": "[encoded data removed]",
      "text/plain": [
       "<Figure size 432x288 with 1 Axes>"
      ]
     },
     "metadata": {
      "needs_background": "light"
     },
     "output_type": "display_data"
    },
    {
     "data": {
      "image/png": "[encoded data removed]",
      "text/plain": [
       "<Figure size 432x288 with 1 Axes>"
      ]
     },
     "metadata": {
      "needs_background": "light"
     },
     "output_type": "display_data"
    },
    {
     "data": {
      "image/png": "[encoded data removed]",
      "text/plain": [
       "<Figure size 432x288 with 1 Axes>"
      ]
     },
     "metadata": {
      "needs_background": "light"
     },
     "output_type": "display_data"
    },
    {
     "data": {
      "image/png": "[encoded data removed]",
      "text/plain": [
       "<Figure size 432x288 with 1 Axes>"
      ]
     },
     "metadata": {
      "needs_background": "light"
     },
     "output_type": "display_data"
    }
   ],
   "source": [
    "# distplot for continous columns\n",
    "for i in ['cement','slag','ash','water','superplastic','coarseagg','fineagg','age','strength']:\n",
    "    sns.distplot(df[i])\n",
    "    plt.show()"
   ]
  },
  {
   "cell_type": "markdown",
   "metadata": {},
   "source": [
    "## Bivariate"
   ]
  },
  {
   "cell_type": "code",
   "execution_count": 9,
   "metadata": {},
   "outputs": [
    {
     "data": {
      "image/png": "[encoded data removed]",
      "text/plain": [
       "<Figure size 648x648 with 54 Axes>"
      ]
     },
     "metadata": {
      "needs_background": "light"
     },
     "output_type": "display_data"
    }
   ],
   "source": [
    "#Pairplot\n",
    "sns.pairplot(df, height=1, diag_kind='auto', corner=True)\n",
    "plt.show()"
   ]
  },
  {
   "cell_type": "code",
   "execution_count": 10,
   "metadata": {},
   "outputs": [
    {
     "data": {
      "image/png": "[encoded data removed]",
      "text/plain": [
       "<Figure size 1440x1440 with 2 Axes>"
      ]
     },
     "metadata": {
      "needs_background": "light"
     },
     "output_type": "display_data"
    }
   ],
   "source": [
    "#Heatmap to visualize correlation\n",
    "plt.figure(figsize=(20,20))\n",
    "sns.heatmap(df.corr(), annot=True, fmt=\".2\")\n",
    "plt.show()"
   ]
  },
  {
   "cell_type": "markdown",
   "metadata": {},
   "source": [
    "**Insights:**\n",
    "- `No columns are highly correlated`\n",
    "- Strength is moderately correlated (positive) to cement and to some extent superplastic, age and slag.\n",
    "- Strength is slightly negatively correlated to ash, fineagg, coarseagg and water."
   ]
  },
  {
   "cell_type": "code",
   "execution_count": 11,
   "metadata": {},
   "outputs": [
    {
     "data": {
      "text/plain": [
       "<matplotlib.axes._subplots.AxesSubplot at 0x111201190>"
      ]
     },
     "execution_count": 11,
     "metadata": {},
     "output_type": "execute_result"
    },
    {
     "data": {
      "image/png": "[encoded data removed]",
      "text/plain": [
       "<Figure size 864x432 with 1 Axes>"
      ]
     },
     "metadata": {
      "needs_background": "light"
     },
     "output_type": "display_data"
    }
   ],
   "source": [
    "plt.figure(figsize=(12,6))\n",
    "sns.boxplot(data=df, orient=\"h\", palette=\"Set2\", dodge=False)"
   ]
  },
  {
   "cell_type": "markdown",
   "metadata": {},
   "source": [
    "**Insights:**\n",
    "- The independent attributes have outliers\n",
    "- The age attribute has a high amount of outliers\n",
    "- The target attribute (strength) also has outliers\n",
    "- The water attribute shows presence of outliers on both sides of the whiskers\n",
    "\n"
   ]
  },
  {
   "cell_type": "code",
   "execution_count": 12,
   "metadata": {},
   "outputs": [
    {
     "data": {
      "text/plain": [
       "cement          278\n",
       "slag            185\n",
       "ash             156\n",
       "water           195\n",
       "superplastic    111\n",
       "coarseagg       284\n",
       "fineagg         302\n",
       "age              14\n",
       "strength        845\n",
       "dtype: int64"
      ]
     },
     "execution_count": 12,
     "metadata": {},
     "output_type": "execute_result"
    }
   ],
   "source": [
    "# Checking the number of unique values in each column of the dataframe.\n",
    "df.nunique()"
   ]
  },
  {
   "cell_type": "code",
   "execution_count": 13,
   "metadata": {},
   "outputs": [
    {
     "name": "stdout",
     "output_type": "stream",
     "text": [
      "<class 'pandas.core.frame.DataFrame'>\n",
      "RangeIndex: 1030 entries, 0 to 1029\n",
      "Data columns (total 9 columns):\n",
      " #   Column        Non-Null Count  Dtype  \n",
      "---  ------        --------------  -----  \n",
      " 0   cement        1030 non-null   float64\n",
      " 1   slag          1030 non-null   float64\n",
      " 2   ash           1030 non-null   float64\n",
      " 3   water         1030 non-null   float64\n",
      " 4   superplastic  1030 non-null   float64\n",
      " 5   coarseagg     1030 non-null   float64\n",
      " 6   fineagg       1030 non-null   float64\n",
      " 7   age           1030 non-null   int64  \n",
      " 8   strength      1030 non-null   float64\n",
      "dtypes: float64(8), int64(1)\n",
      "memory usage: 72.5 KB\n"
     ]
    }
   ],
   "source": [
    "df.info()"
   ]
  },
  {
   "cell_type": "markdown",
   "metadata": {},
   "source": [
    "## Split Data"
   ]
  },
  {
   "cell_type": "code",
   "execution_count": 14,
   "metadata": {},
   "outputs": [
    {
     "name": "stdout",
     "output_type": "stream",
     "text": [
      "(1030, 8)\n",
      "(1030,)\n",
      "<class 'pandas.core.frame.DataFrame'>\n",
      "RangeIndex: 1030 entries, 0 to 1029\n",
      "Data columns (total 8 columns):\n",
      " #   Column        Non-Null Count  Dtype  \n",
      "---  ------        --------------  -----  \n",
      " 0   cement        1030 non-null   float64\n",
      " 1   slag          1030 non-null   float64\n",
      " 2   ash           1030 non-null   float64\n",
      " 3   water         1030 non-null   float64\n",
      " 4   superplastic  1030 non-null   float64\n",
      " 5   coarseagg     1030 non-null   float64\n",
      " 6   fineagg       1030 non-null   float64\n",
      " 7   age           1030 non-null   int64  \n",
      "dtypes: float64(7), int64(1)\n",
      "memory usage: 64.5 KB\n",
      "None\n"
     ]
    }
   ],
   "source": [
    "## Define X and Y variables\n",
    "X = df.drop(\"strength\" , axis=1)\n",
    "y = df.pop(\"strength\")\n",
    "print(X.shape)\n",
    "print(y.shape)\n",
    "print(df.info())"
   ]
  },
  {
   "cell_type": "code",
   "execution_count": 15,
   "metadata": {},
   "outputs": [],
   "source": [
    "#Split the dataset into train, test and validation\n",
    "from sklearn.model_selection import train_test_split, cross_val_score, cross_val_predict,StratifiedKFold, KFold\n",
    "X_train, X_test, y_train, y_test = train_test_split(X, y, test_size = .30, random_state=0)\n",
    "X_train, X_val, y_train, y_val = train_test_split(X_train, y_train, test_size=0.25, random_state=1)\n",
    "\n",
    "n_split = 10\n",
    "rnd_state = 7\n",
    "kfold = KFold(n_split, random_state = rnd_state)"
   ]
  },
  {
   "cell_type": "markdown",
   "metadata": {},
   "source": [
    "#### Standardization of variables"
   ]
  },
  {
   "cell_type": "code",
   "execution_count": 16,
   "metadata": {},
   "outputs": [],
   "source": [
    "from sklearn.preprocessing import StandardScaler\n",
    "\n",
    "sc = StandardScaler()\n",
    "\n",
    "X_train = sc.fit_transform(X_train)\n",
    "X_test = sc.transform(X_test)\n",
    "\n",
    "X_val = sc.transform(X_val)"
   ]
  },
  {
   "cell_type": "markdown",
   "metadata": {},
   "source": [
    "#### Decision Tree Regressor"
   ]
  },
  {
   "cell_type": "code",
   "execution_count": 19,
   "metadata": {},
   "outputs": [
    {
     "data": {
      "text/html": [
       "<div>\n",
       "<style scoped>\n",
       "    .dataframe tbody tr th:only-of-type {\n",
       "        vertical-align: middle;\n",
       "    }\n",
       "\n",
       "    .dataframe tbody tr th {\n",
       "        vertical-align: top;\n",
       "    }\n",
       "\n",
       "    .dataframe thead th {\n",
       "        text-align: right;\n",
       "    }\n",
       "</style>\n",
       "<table border=\"1\" class=\"dataframe\">\n",
       "  <thead>\n",
       "    <tr style=\"text-align: right;\">\n",
       "      <th></th>\n",
       "      <th>Model</th>\n",
       "      <th>Training Score</th>\n",
       "      <th>Validation Score</th>\n",
       "      <th>Test Score</th>\n",
       "      <th>RMSE</th>\n",
       "      <th>R Squared</th>\n",
       "    </tr>\n",
       "  </thead>\n",
       "  <tbody>\n",
       "    <tr>\n",
       "      <th>0</th>\n",
       "      <td>Decision Tree Regressor</td>\n",
       "      <td>0.993866</td>\n",
       "      <td>0.763279</td>\n",
       "      <td>0.794496</td>\n",
       "      <td>6.988191</td>\n",
       "      <td>0.817834</td>\n",
       "    </tr>\n",
       "  </tbody>\n",
       "</table>\n",
       "</div>"
      ],
      "text/plain": [
       "                     Model  Training Score  Validation Score  Test Score  \\\n",
       "0  Decision Tree Regressor        0.993866          0.763279    0.794496   \n",
       "\n",
       "       RMSE  R Squared  \n",
       "0  6.988191   0.817834  "
      ]
     },
     "execution_count": 19,
     "metadata": {},
     "output_type": "execute_result"
    }
   ],
   "source": [
    "#Decision tree regressor\n",
    "from sklearn.tree import DecisionTreeRegressor\n",
    "\n",
    "dtr = DecisionTreeRegressor()\n",
    "\n",
    "dtr.fit(X_train, y_train)\n",
    "\n",
    "y_pred_dtr = dtr.predict(X_test)\n",
    "\n",
    "dtree_train_score = dtr.score(X_train, y_train)\n",
    "dtree_test_score = dtr.score(X_test, y_test)\n",
    "dtree_score = dtr.score(X_val, y_val)\n",
    "\n",
    "dtree_rmse = np.sqrt((-1) * cross_val_score(dtr, X_train, y_train.values.ravel(), cv=kfold, scoring='neg_mean_squared_error').mean())\n",
    "\n",
    "dtree_r2 = cross_val_score(dtr, X_train, y_train.values.ravel(), cv=kfold, scoring='r2').mean()\n",
    "\n",
    "#Store the performance metrics for each model in a dataframe for final comparison\n",
    "resultsDf = pd.DataFrame({'Model': ['Decision Tree Regressor'],\n",
    "                           'Training Score': [dtree_train_score],\n",
    "                           'Validation Score': [dtree_score],\n",
    "                           'Test Score': [dtree_test_score],          \n",
    "                           'RMSE': [dtree_rmse],\n",
    "                           'R Squared': [dtree_r2]})\n",
    "resultsDf = resultsDf[['Model', 'Training Score', 'Validation Score', 'Test Score', 'RMSE', 'R Squared']]\n",
    "\n",
    "resultsDf\n",
    "\n",
    "\n"
   ]
  },
  {
   "cell_type": "markdown",
   "metadata": {},
   "source": [
    "#### AdaBoost Regressor"
   ]
  },
  {
   "cell_type": "code",
   "execution_count": 20,
   "metadata": {},
   "outputs": [
    {
     "data": {
      "text/html": [
       "<div>\n",
       "<style scoped>\n",
       "    .dataframe tbody tr th:only-of-type {\n",
       "        vertical-align: middle;\n",
       "    }\n",
       "\n",
       "    .dataframe tbody tr th {\n",
       "        vertical-align: top;\n",
       "    }\n",
       "\n",
       "    .dataframe thead th {\n",
       "        text-align: right;\n",
       "    }\n",
       "</style>\n",
       "<table border=\"1\" class=\"dataframe\">\n",
       "  <thead>\n",
       "    <tr style=\"text-align: right;\">\n",
       "      <th></th>\n",
       "      <th>Model</th>\n",
       "      <th>Training Score</th>\n",
       "      <th>Validation Score</th>\n",
       "      <th>Test Score</th>\n",
       "      <th>RMSE</th>\n",
       "      <th>R Squared</th>\n",
       "    </tr>\n",
       "  </thead>\n",
       "  <tbody>\n",
       "    <tr>\n",
       "      <th>0</th>\n",
       "      <td>Decision Tree Regressor</td>\n",
       "      <td>0.993866</td>\n",
       "      <td>0.763279</td>\n",
       "      <td>0.794496</td>\n",
       "      <td>6.988191</td>\n",
       "      <td>0.817834</td>\n",
       "    </tr>\n",
       "    <tr>\n",
       "      <th>0</th>\n",
       "      <td>AdaBoost Regressor</td>\n",
       "      <td>0.980029</td>\n",
       "      <td>0.869760</td>\n",
       "      <td>0.877780</td>\n",
       "      <td>5.591417</td>\n",
       "      <td>0.887064</td>\n",
       "    </tr>\n",
       "  </tbody>\n",
       "</table>\n",
       "</div>"
      ],
      "text/plain": [
       "                     Model  Training Score  Validation Score  Test Score  \\\n",
       "0  Decision Tree Regressor        0.993866          0.763279    0.794496   \n",
       "0       AdaBoost Regressor        0.980029          0.869760    0.877780   \n",
       "\n",
       "       RMSE  R Squared  \n",
       "0  6.988191   0.817834  \n",
       "0  5.591417   0.887064  "
      ]
     },
     "execution_count": 20,
     "metadata": {},
     "output_type": "execute_result"
    }
   ],
   "source": [
    "#AdaBoost Regressor\n",
    "from sklearn.ensemble import AdaBoostRegressor,RandomForestRegressor,BaggingRegressor,GradientBoostingRegressor\n",
    "\n",
    "abr = BaggingRegressor(n_estimators=100)\n",
    "\n",
    "abr.fit(X_train, y_train)\n",
    "\n",
    "y_pred_abr = abr.predict(X_test)\n",
    "\n",
    "\n",
    "abr_train_score = abr.score(X_train, y_train)\n",
    "abr_test_score = abr.score(X_test, y_test)\n",
    "\n",
    "abr_score = abr.score(X_val, y_val)\n",
    "\n",
    "abr_rmse = np.sqrt((-1) * cross_val_score(abr, X_train, y_train.values.ravel(), cv=kfold, scoring='neg_mean_squared_error').mean())\n",
    "\n",
    "abr_r2 = cross_val_score(abr, X_train, y_train.values.ravel(), cv=kfold, scoring='r2').mean()\n",
    "\n",
    "\n",
    "#Store the performance metrics for each model in a dataframe for final comparison\n",
    "tempResultsDf = pd.DataFrame({'Model': 'AdaBoost Regressor',\n",
    "                           'Training Score': [abr_train_score],\n",
    "                           'Validation Score': [abr_score],\n",
    "                           'Test Score': [abr_test_score],           \n",
    "                           'RMSE': [abr_rmse],\n",
    "                           'R Squared': [abr_r2]})\n",
    "resultsDf = pd.concat([resultsDf, tempResultsDf])\n",
    "resultsDf = resultsDf[['Model', 'Training Score', 'Validation Score', 'Test Score', 'RMSE', 'R Squared']]\n",
    "resultsDf"
   ]
  },
  {
   "cell_type": "markdown",
   "metadata": {},
   "source": [
    "#### Bagging Regressor"
   ]
  },
  {
   "cell_type": "code",
   "execution_count": 21,
   "metadata": {},
   "outputs": [
    {
     "data": {
      "text/html": [
       "<div>\n",
       "<style scoped>\n",
       "    .dataframe tbody tr th:only-of-type {\n",
       "        vertical-align: middle;\n",
       "    }\n",
       "\n",
       "    .dataframe tbody tr th {\n",
       "        vertical-align: top;\n",
       "    }\n",
       "\n",
       "    .dataframe thead th {\n",
       "        text-align: right;\n",
       "    }\n",
       "</style>\n",
       "<table border=\"1\" class=\"dataframe\">\n",
       "  <thead>\n",
       "    <tr style=\"text-align: right;\">\n",
       "      <th></th>\n",
       "      <th>Model</th>\n",
       "      <th>Training Score</th>\n",
       "      <th>Validation Score</th>\n",
       "      <th>Test Score</th>\n",
       "      <th>RMSE</th>\n",
       "      <th>R Squared</th>\n",
       "    </tr>\n",
       "  </thead>\n",
       "  <tbody>\n",
       "    <tr>\n",
       "      <th>0</th>\n",
       "      <td>Decision Tree Regressor</td>\n",
       "      <td>0.993866</td>\n",
       "      <td>0.763279</td>\n",
       "      <td>0.794496</td>\n",
       "      <td>6.988191</td>\n",
       "      <td>0.817834</td>\n",
       "    </tr>\n",
       "    <tr>\n",
       "      <th>0</th>\n",
       "      <td>AdaBoost Regressor</td>\n",
       "      <td>0.980029</td>\n",
       "      <td>0.869760</td>\n",
       "      <td>0.877780</td>\n",
       "      <td>5.591417</td>\n",
       "      <td>0.887064</td>\n",
       "    </tr>\n",
       "    <tr>\n",
       "      <th>0</th>\n",
       "      <td>Bagging Regressor</td>\n",
       "      <td>0.980451</td>\n",
       "      <td>0.868400</td>\n",
       "      <td>0.879638</td>\n",
       "      <td>5.531453</td>\n",
       "      <td>0.887801</td>\n",
       "    </tr>\n",
       "  </tbody>\n",
       "</table>\n",
       "</div>"
      ],
      "text/plain": [
       "                     Model  Training Score  Validation Score  Test Score  \\\n",
       "0  Decision Tree Regressor        0.993866          0.763279    0.794496   \n",
       "0       AdaBoost Regressor        0.980029          0.869760    0.877780   \n",
       "0        Bagging Regressor        0.980451          0.868400    0.879638   \n",
       "\n",
       "       RMSE  R Squared  \n",
       "0  6.988191   0.817834  \n",
       "0  5.591417   0.887064  \n",
       "0  5.531453   0.887801  "
      ]
     },
     "execution_count": 21,
     "metadata": {},
     "output_type": "execute_result"
    }
   ],
   "source": [
    "#Bagging Regressor\n",
    "from sklearn.ensemble import AdaBoostRegressor,RandomForestRegressor,BaggingRegressor,GradientBoostingRegressor\n",
    "\n",
    "bgr = BaggingRegressor(n_estimators=100)\n",
    "\n",
    "bgr.fit(X_train, y_train)\n",
    "\n",
    "y_pred_bgr = bgr.predict(X_test)\n",
    "\n",
    "\n",
    "bgr_train_score = bgr.score(X_train, y_train)\n",
    "bgr_test_score = bgr.score(X_test, y_test)\n",
    "\n",
    "bgr_score = bgr.score(X_val, y_val)\n",
    "\n",
    "bgr_rmse = np.sqrt((-1) * cross_val_score(bgr, X_train, y_train.values.ravel(), cv=kfold, scoring='neg_mean_squared_error').mean())\n",
    "\n",
    "bgr_r2 = cross_val_score(bgr, X_train, y_train.values.ravel(), cv=kfold, scoring='r2').mean()\n",
    "\n",
    "#Store the performance metrics for each model in a dataframe for final comparison\n",
    "tempResultsDf = pd.DataFrame({'Model': 'Bagging Regressor',\n",
    "                           'Training Score': [bgr_train_score],\n",
    "                           'Validation Score': [bgr_score],\n",
    "                           'Test Score': [bgr_test_score],           \n",
    "                           'RMSE': [bgr_rmse],\n",
    "                           'R Squared': [bgr_r2]})\n",
    "resultsDf = pd.concat([resultsDf, tempResultsDf])\n",
    "resultsDf = resultsDf[['Model', 'Training Score', 'Validation Score', 'Test Score', 'RMSE', 'R Squared']]\n",
    "resultsDf"
   ]
  },
  {
   "cell_type": "markdown",
   "metadata": {},
   "source": [
    "#### Gradient Boost Regressor"
   ]
  },
  {
   "cell_type": "code",
   "execution_count": 22,
   "metadata": {},
   "outputs": [
    {
     "data": {
      "text/html": [
       "<div>\n",
       "<style scoped>\n",
       "    .dataframe tbody tr th:only-of-type {\n",
       "        vertical-align: middle;\n",
       "    }\n",
       "\n",
       "    .dataframe tbody tr th {\n",
       "        vertical-align: top;\n",
       "    }\n",
       "\n",
       "    .dataframe thead th {\n",
       "        text-align: right;\n",
       "    }\n",
       "</style>\n",
       "<table border=\"1\" class=\"dataframe\">\n",
       "  <thead>\n",
       "    <tr style=\"text-align: right;\">\n",
       "      <th></th>\n",
       "      <th>Model</th>\n",
       "      <th>Training Score</th>\n",
       "      <th>Validation Score</th>\n",
       "      <th>Test Score</th>\n",
       "      <th>RMSE</th>\n",
       "      <th>R Squared</th>\n",
       "    </tr>\n",
       "  </thead>\n",
       "  <tbody>\n",
       "    <tr>\n",
       "      <th>0</th>\n",
       "      <td>Decision Tree Regressor</td>\n",
       "      <td>0.993866</td>\n",
       "      <td>0.763279</td>\n",
       "      <td>0.794496</td>\n",
       "      <td>6.988191</td>\n",
       "      <td>0.817834</td>\n",
       "    </tr>\n",
       "    <tr>\n",
       "      <th>0</th>\n",
       "      <td>AdaBoost Regressor</td>\n",
       "      <td>0.980029</td>\n",
       "      <td>0.869760</td>\n",
       "      <td>0.877780</td>\n",
       "      <td>5.591417</td>\n",
       "      <td>0.887064</td>\n",
       "    </tr>\n",
       "    <tr>\n",
       "      <th>0</th>\n",
       "      <td>Bagging Regressor</td>\n",
       "      <td>0.980451</td>\n",
       "      <td>0.868400</td>\n",
       "      <td>0.879638</td>\n",
       "      <td>5.531453</td>\n",
       "      <td>0.887801</td>\n",
       "    </tr>\n",
       "    <tr>\n",
       "      <th>0</th>\n",
       "      <td>Gradient Boost Regressor</td>\n",
       "      <td>0.980746</td>\n",
       "      <td>0.870537</td>\n",
       "      <td>0.881382</td>\n",
       "      <td>5.628545</td>\n",
       "      <td>0.884913</td>\n",
       "    </tr>\n",
       "  </tbody>\n",
       "</table>\n",
       "</div>"
      ],
      "text/plain": [
       "                      Model  Training Score  Validation Score  Test Score  \\\n",
       "0   Decision Tree Regressor        0.993866          0.763279    0.794496   \n",
       "0        AdaBoost Regressor        0.980029          0.869760    0.877780   \n",
       "0         Bagging Regressor        0.980451          0.868400    0.879638   \n",
       "0  Gradient Boost Regressor        0.980746          0.870537    0.881382   \n",
       "\n",
       "       RMSE  R Squared  \n",
       "0  6.988191   0.817834  \n",
       "0  5.591417   0.887064  \n",
       "0  5.531453   0.887801  \n",
       "0  5.628545   0.884913  "
      ]
     },
     "execution_count": 22,
     "metadata": {},
     "output_type": "execute_result"
    }
   ],
   "source": [
    "#Gradient Boost Regressor\n",
    "from sklearn.ensemble import AdaBoostRegressor,RandomForestRegressor,BaggingRegressor,GradientBoostingRegressor\n",
    "\n",
    "gbr = BaggingRegressor(n_estimators=100)\n",
    "\n",
    "gbr.fit(X_train, y_train)\n",
    "\n",
    "y_pred_gbr = gbr.predict(X_test)\n",
    "\n",
    "\n",
    "gbr_train_score = gbr.score(X_train, y_train)\n",
    "gbr_test_score = gbr.score(X_test, y_test)\n",
    "\n",
    "gbr_score = gbr.score(X_val, y_val)\n",
    "\n",
    "gbr_rmse = np.sqrt((-1) * cross_val_score(gbr, X_train, y_train.values.ravel(), cv=kfold, scoring='neg_mean_squared_error').mean())\n",
    "\n",
    "gbr_r2 = cross_val_score(gbr, X_train, y_train.values.ravel(), cv=kfold, scoring='r2').mean()\n",
    "\n",
    "#Store the performance metrics for each model in a dataframe for final comparison\n",
    "tempResultsDf = pd.DataFrame({'Model': 'Gradient Boost Regressor',\n",
    "                           'Training Score': [gbr_train_score],\n",
    "                           'Validation Score': [gbr_score],\n",
    "                           'Test Score': [gbr_test_score],           \n",
    "                           'RMSE': [gbr_rmse],\n",
    "                           'R Squared': [gbr_r2]})\n",
    "resultsDf = pd.concat([resultsDf, tempResultsDf])\n",
    "resultsDf = resultsDf[['Model', 'Training Score', 'Validation Score', 'Test Score', 'RMSE', 'R Squared']]\n",
    "resultsDf\n",
    "\n"
   ]
  },
  {
   "cell_type": "markdown",
   "metadata": {},
   "source": [
    "#### Random Forest Regressor"
   ]
  },
  {
   "cell_type": "code",
   "execution_count": 23,
   "metadata": {},
   "outputs": [
    {
     "data": {
      "text/html": [
       "<div>\n",
       "<style scoped>\n",
       "    .dataframe tbody tr th:only-of-type {\n",
       "        vertical-align: middle;\n",
       "    }\n",
       "\n",
       "    .dataframe tbody tr th {\n",
       "        vertical-align: top;\n",
       "    }\n",
       "\n",
       "    .dataframe thead th {\n",
       "        text-align: right;\n",
       "    }\n",
       "</style>\n",
       "<table border=\"1\" class=\"dataframe\">\n",
       "  <thead>\n",
       "    <tr style=\"text-align: right;\">\n",
       "      <th></th>\n",
       "      <th>Model</th>\n",
       "      <th>Training Score</th>\n",
       "      <th>Validation Score</th>\n",
       "      <th>Test Score</th>\n",
       "      <th>RMSE</th>\n",
       "      <th>R Squared</th>\n",
       "    </tr>\n",
       "  </thead>\n",
       "  <tbody>\n",
       "    <tr>\n",
       "      <th>0</th>\n",
       "      <td>Decision Tree Regressor</td>\n",
       "      <td>0.993866</td>\n",
       "      <td>0.763279</td>\n",
       "      <td>0.794496</td>\n",
       "      <td>6.988191</td>\n",
       "      <td>0.817834</td>\n",
       "    </tr>\n",
       "    <tr>\n",
       "      <th>0</th>\n",
       "      <td>AdaBoost Regressor</td>\n",
       "      <td>0.980029</td>\n",
       "      <td>0.869760</td>\n",
       "      <td>0.877780</td>\n",
       "      <td>5.591417</td>\n",
       "      <td>0.887064</td>\n",
       "    </tr>\n",
       "    <tr>\n",
       "      <th>0</th>\n",
       "      <td>Bagging Regressor</td>\n",
       "      <td>0.980451</td>\n",
       "      <td>0.868400</td>\n",
       "      <td>0.879638</td>\n",
       "      <td>5.531453</td>\n",
       "      <td>0.887801</td>\n",
       "    </tr>\n",
       "    <tr>\n",
       "      <th>0</th>\n",
       "      <td>Gradient Boost Regressor</td>\n",
       "      <td>0.980746</td>\n",
       "      <td>0.870537</td>\n",
       "      <td>0.881382</td>\n",
       "      <td>5.628545</td>\n",
       "      <td>0.884913</td>\n",
       "    </tr>\n",
       "    <tr>\n",
       "      <th>0</th>\n",
       "      <td>Random Forest Regressor</td>\n",
       "      <td>0.979414</td>\n",
       "      <td>0.865153</td>\n",
       "      <td>0.879520</td>\n",
       "      <td>5.581369</td>\n",
       "      <td>0.884527</td>\n",
       "    </tr>\n",
       "  </tbody>\n",
       "</table>\n",
       "</div>"
      ],
      "text/plain": [
       "                      Model  Training Score  Validation Score  Test Score  \\\n",
       "0   Decision Tree Regressor        0.993866          0.763279    0.794496   \n",
       "0        AdaBoost Regressor        0.980029          0.869760    0.877780   \n",
       "0         Bagging Regressor        0.980451          0.868400    0.879638   \n",
       "0  Gradient Boost Regressor        0.980746          0.870537    0.881382   \n",
       "0   Random Forest Regressor        0.979414          0.865153    0.879520   \n",
       "\n",
       "       RMSE  R Squared  \n",
       "0  6.988191   0.817834  \n",
       "0  5.591417   0.887064  \n",
       "0  5.531453   0.887801  \n",
       "0  5.628545   0.884913  \n",
       "0  5.581369   0.884527  "
      ]
     },
     "execution_count": 23,
     "metadata": {},
     "output_type": "execute_result"
    }
   ],
   "source": [
    "#Random Forest Regressor\n",
    "from sklearn.ensemble import RandomForestRegressor\n",
    "\n",
    "rfr = RandomForestRegressor(n_estimators=100)\n",
    "\n",
    "rfr.fit(X_train, y_train)\n",
    "\n",
    "y_pred_rfr = rfr.predict(X_test)\n",
    "\n",
    "\n",
    "rfr_train_score = rfr.score(X_train, y_train)\n",
    "rfr_score = rfr.score(X_val, y_val)\n",
    "rfr_rmse = np.sqrt((-1) * cross_val_score(rfr, X_train, y_train.values.ravel(), cv=kfold, scoring='neg_mean_squared_error').mean())\n",
    "rfr_r2 = cross_val_score(rfr, X_train, y_train.values.ravel(), cv=kfold, scoring='r2').mean()\n",
    "\n",
    "rfr_test_score = rfr.score(X_test, y_test)\n",
    "\n",
    "#Store the performance metrics for each model in a dataframe for final comparison\n",
    "tempResultsDf = pd.DataFrame({'Model': 'Random Forest Regressor',\n",
    "                           'Training Score': [rfr_train_score],\n",
    "                           'Validation Score': [rfr_score],\n",
    "                           'Test Score': [rfr_test_score],           \n",
    "                           'RMSE': [rfr_rmse],\n",
    "                           'R Squared': [rfr_r2]})\n",
    "resultsDf = pd.concat([resultsDf, tempResultsDf])\n",
    "resultsDf = resultsDf[['Model', 'Training Score', 'Validation Score', 'Test Score', 'RMSE', 'R Squared']]\n",
    "resultsDf\n"
   ]
  },
  {
   "cell_type": "code",
   "execution_count": 24,
   "metadata": {},
   "outputs": [
    {
     "data": {
      "text/html": [
       "<div>\n",
       "<style scoped>\n",
       "    .dataframe tbody tr th:only-of-type {\n",
       "        vertical-align: middle;\n",
       "    }\n",
       "\n",
       "    .dataframe tbody tr th {\n",
       "        vertical-align: top;\n",
       "    }\n",
       "\n",
       "    .dataframe thead th {\n",
       "        text-align: right;\n",
       "    }\n",
       "</style>\n",
       "<table border=\"1\" class=\"dataframe\">\n",
       "  <thead>\n",
       "    <tr style=\"text-align: right;\">\n",
       "      <th></th>\n",
       "      <th>Model</th>\n",
       "      <th>Training Score</th>\n",
       "      <th>Validation Score</th>\n",
       "      <th>Test Score</th>\n",
       "      <th>RMSE</th>\n",
       "      <th>R Squared</th>\n",
       "    </tr>\n",
       "  </thead>\n",
       "  <tbody>\n",
       "    <tr>\n",
       "      <th>0</th>\n",
       "      <td>Decision Tree Regressor</td>\n",
       "      <td>0.993866</td>\n",
       "      <td>0.763279</td>\n",
       "      <td>0.794496</td>\n",
       "      <td>6.988191</td>\n",
       "      <td>0.817834</td>\n",
       "    </tr>\n",
       "    <tr>\n",
       "      <th>0</th>\n",
       "      <td>AdaBoost Regressor</td>\n",
       "      <td>0.980029</td>\n",
       "      <td>0.869760</td>\n",
       "      <td>0.877780</td>\n",
       "      <td>5.591417</td>\n",
       "      <td>0.887064</td>\n",
       "    </tr>\n",
       "    <tr>\n",
       "      <th>0</th>\n",
       "      <td>Bagging Regressor</td>\n",
       "      <td>0.980451</td>\n",
       "      <td>0.868400</td>\n",
       "      <td>0.879638</td>\n",
       "      <td>5.531453</td>\n",
       "      <td>0.887801</td>\n",
       "    </tr>\n",
       "    <tr>\n",
       "      <th>0</th>\n",
       "      <td>Gradient Boost Regressor</td>\n",
       "      <td>0.980746</td>\n",
       "      <td>0.870537</td>\n",
       "      <td>0.881382</td>\n",
       "      <td>5.628545</td>\n",
       "      <td>0.884913</td>\n",
       "    </tr>\n",
       "    <tr>\n",
       "      <th>0</th>\n",
       "      <td>Random Forest Regressor</td>\n",
       "      <td>0.979414</td>\n",
       "      <td>0.865153</td>\n",
       "      <td>0.879520</td>\n",
       "      <td>5.581369</td>\n",
       "      <td>0.884527</td>\n",
       "    </tr>\n",
       "    <tr>\n",
       "      <th>0</th>\n",
       "      <td>Random Forest Regressor</td>\n",
       "      <td>0.981112</td>\n",
       "      <td>0.866056</td>\n",
       "      <td>0.877494</td>\n",
       "      <td>5.548864</td>\n",
       "      <td>0.886564</td>\n",
       "    </tr>\n",
       "  </tbody>\n",
       "</table>\n",
       "</div>"
      ],
      "text/plain": [
       "                      Model  Training Score  Validation Score  Test Score  \\\n",
       "0   Decision Tree Regressor        0.993866          0.763279    0.794496   \n",
       "0        AdaBoost Regressor        0.980029          0.869760    0.877780   \n",
       "0         Bagging Regressor        0.980451          0.868400    0.879638   \n",
       "0  Gradient Boost Regressor        0.980746          0.870537    0.881382   \n",
       "0   Random Forest Regressor        0.979414          0.865153    0.879520   \n",
       "0   Random Forest Regressor        0.981112          0.866056    0.877494   \n",
       "\n",
       "       RMSE  R Squared  \n",
       "0  6.988191   0.817834  \n",
       "0  5.591417   0.887064  \n",
       "0  5.531453   0.887801  \n",
       "0  5.628545   0.884913  \n",
       "0  5.581369   0.884527  \n",
       "0  5.548864   0.886564  "
      ]
     },
     "execution_count": 24,
     "metadata": {},
     "output_type": "execute_result"
    }
   ],
   "source": [
    "#Random Forest Regressor\n",
    "from sklearn.ensemble import RandomForestRegressor\n",
    "from sklearn.model_selection import KFold\n",
    "\n",
    "rfr = RandomForestRegressor(n_estimators=100)\n",
    "rfr.fit(X_train, y_train.values.ravel())\n",
    "\n",
    "rfr_train_score = rfr.score(X_train, y_train)\n",
    "rfr_score = rfr.score(X_val, y_val)\n",
    "rfr_rmse = np.sqrt((-1) * cross_val_score(rfr, X_train, y_train.values.ravel(), cv=kfold, scoring='neg_mean_squared_error').mean())\n",
    "rfr_r2 = cross_val_score(rfr, X_train, y_train.values.ravel(), cv=kfold, scoring='r2').mean()\n",
    "\n",
    "rfr_test_score = rfr.score(X_test, y_test)\n",
    "\n",
    "#Store the performance metrics for each model in a dataframe for final comparison\n",
    "tempResultsDf = pd.DataFrame({'Model': 'Random Forest Regressor',\n",
    "                           'Training Score': [rfr_train_score],\n",
    "                           'Validation Score': [rfr_score],\n",
    "                           'Test Score': [rfr_test_score],           \n",
    "                           'RMSE': [rfr_rmse],\n",
    "                           'R Squared': [rfr_r2]})\n",
    "resultsDf = pd.concat([resultsDf, tempResultsDf])\n",
    "resultsDf = resultsDf[['Model', 'Training Score', 'Validation Score', 'Test Score', 'RMSE', 'R Squared']]\n",
    "\n",
    "y_pred_rfr = rfr.predict(X_test)\n",
    "\n",
    "resultsDf\n"
   ]
  },
  {
   "cell_type": "markdown",
   "metadata": {},
   "source": [
    "## Hyper parameter tuning\n",
    "\n",
    "#### Optimize the model parameters\n",
    "\n",
    "\n",
    "\n",
    "Apply param grid to the list of hyper parameters of the algorithm(s)\n",
    "Once hyper parameter grid is defined, import random search CV and fit x_train and y_train\n",
    "Determine the best params and test score"
   ]
  },
  {
   "cell_type": "markdown",
   "metadata": {},
   "source": [
    "### Random Forest"
   ]
  },
  {
   "cell_type": "markdown",
   "metadata": {},
   "source": [
    "##### RandomSearchCV"
   ]
  },
  {
   "cell_type": "code",
   "execution_count": 25,
   "metadata": {},
   "outputs": [
    {
     "data": {
      "text/plain": [
       "{'bootstrap': True,\n",
       " 'ccp_alpha': 0.0,\n",
       " 'criterion': 'mse',\n",
       " 'max_depth': None,\n",
       " 'max_features': 'auto',\n",
       " 'max_leaf_nodes': None,\n",
       " 'max_samples': None,\n",
       " 'min_impurity_decrease': 0.0,\n",
       " 'min_impurity_split': None,\n",
       " 'min_samples_leaf': 1,\n",
       " 'min_samples_split': 2,\n",
       " 'min_weight_fraction_leaf': 0.0,\n",
       " 'n_estimators': 100,\n",
       " 'n_jobs': None,\n",
       " 'oob_score': False,\n",
       " 'random_state': None,\n",
       " 'verbose': 0,\n",
       " 'warm_start': False}"
      ]
     },
     "execution_count": 25,
     "metadata": {},
     "output_type": "execute_result"
    }
   ],
   "source": [
    "rfr.get_params()"
   ]
  },
  {
   "cell_type": "code",
   "execution_count": 26,
   "metadata": {},
   "outputs": [],
   "source": [
    "# Create the paramaters grid\n",
    "params_grid = {'bootstrap': [True, False],\n",
    "               'max_depth': [5, 10, None],\n",
    "               'max_features': ['auto', 'log2'],\n",
    "               'min_samples_leaf': [1, 2, 4],\n",
    "               'min_samples_split': [2, 5, 10],\n",
    "               'n_estimators': [10, 55, 100]}"
   ]
  },
  {
   "cell_type": "code",
   "execution_count": 27,
   "metadata": {},
   "outputs": [],
   "source": [
    "params_grid2 = {\n",
    "    'bootstrap': [True,False],\n",
    "    'max_depth': [4,5,3],\n",
    "    'max_features': ['sqrt','log2',0.5],\n",
    "    'min_samples_leaf': [1,3],\n",
    "    'min_samples_split': [2,3],\n",
    "    'n_estimators': [25,50,100]\n",
    "} "
   ]
  },
  {
   "cell_type": "code",
   "execution_count": 28,
   "metadata": {},
   "outputs": [
    {
     "name": "stdout",
     "output_type": "stream",
     "text": [
      "Fitting 10 folds for each of 5 candidates, totalling 50 fits\n"
     ]
    },
    {
     "name": "stderr",
     "output_type": "stream",
     "text": [
      "[Parallel(n_jobs=-1)]: Using backend LokyBackend with 8 concurrent workers.\n",
      "[Parallel(n_jobs=-1)]: Done  25 tasks      | elapsed:    1.7s\n",
      "[Parallel(n_jobs=-1)]: Done  50 out of  50 | elapsed:    2.3s finished\n"
     ]
    }
   ],
   "source": [
    "from sklearn.model_selection import RandomizedSearchCV\n",
    "rf_randomCV = RandomizedSearchCV(estimator=rfr, param_distributions=params_grid,\n",
    "                              n_iter = 5, scoring='neg_mean_absolute_error', \n",
    "                              cv = kfold, verbose=2, random_state=7, n_jobs=-1,\n",
    "                              return_train_score=True)\n",
    "# Fit the random search model\n",
    "rf_randomCV.fit(X_train, y_train.values.ravel());"
   ]
  },
  {
   "cell_type": "code",
   "execution_count": 29,
   "metadata": {},
   "outputs": [
    {
     "data": {
      "text/html": [
       "<div>\n",
       "<style scoped>\n",
       "    .dataframe tbody tr th:only-of-type {\n",
       "        vertical-align: middle;\n",
       "    }\n",
       "\n",
       "    .dataframe tbody tr th {\n",
       "        vertical-align: top;\n",
       "    }\n",
       "\n",
       "    .dataframe thead th {\n",
       "        text-align: right;\n",
       "    }\n",
       "</style>\n",
       "<table border=\"1\" class=\"dataframe\">\n",
       "  <thead>\n",
       "    <tr style=\"text-align: right;\">\n",
       "      <th></th>\n",
       "      <th>Model</th>\n",
       "      <th>Training Score</th>\n",
       "      <th>Validation Score</th>\n",
       "      <th>Test Score</th>\n",
       "      <th>RMSE</th>\n",
       "      <th>R Squared</th>\n",
       "    </tr>\n",
       "  </thead>\n",
       "  <tbody>\n",
       "    <tr>\n",
       "      <th>0</th>\n",
       "      <td>Random Forest Regressor - RSCV</td>\n",
       "      <td>0.930799</td>\n",
       "      <td>0.821854</td>\n",
       "      <td>0.838834</td>\n",
       "      <td>6.577892</td>\n",
       "      <td>0.838418</td>\n",
       "    </tr>\n",
       "  </tbody>\n",
       "</table>\n",
       "</div>"
      ],
      "text/plain": [
       "                            Model  Training Score  Validation Score  \\\n",
       "0  Random Forest Regressor - RSCV        0.930799          0.821854   \n",
       "\n",
       "   Test Score      RMSE  R Squared  \n",
       "0    0.838834  6.577892   0.838418  "
      ]
     },
     "execution_count": 29,
     "metadata": {},
     "output_type": "execute_result"
    }
   ],
   "source": [
    "#Model with the optimized hyper parameters\n",
    "rfTree = rf_randomCV.best_estimator_\n",
    "rfTree.fit(X_train, y_train.values.ravel())\n",
    "rfTree_train_score = rfTree.score(X_train, y_train)\n",
    "rfTree_score = rfTree.score(X_val, y_val)\n",
    "rfTree_rmse = np.sqrt((-1) * cross_val_score(rfTree, X_train, y_train.values.ravel(), cv=kfold, scoring='neg_mean_squared_error').mean())\n",
    "\n",
    "rfTree_r2 = cross_val_score(rfTree, X_train, y_train.values.ravel(), cv=kfold, scoring='r2').mean()\n",
    "\n",
    "rfTree_test_score = rfTree.score(X_test, y_test)\n",
    "\n",
    "#Store the performance metrics for each model in a dataframe for final comparison\n",
    "resultsDfHP = pd.DataFrame({'Model': 'Random Forest Regressor - RSCV',\n",
    "                           'Training Score': [rfTree_train_score],\n",
    "                           'Validation Score': [rfTree_score],\n",
    "                           'Test Score': [rfTree_test_score],                                       \n",
    "                           'RMSE': [rfTree_rmse],\n",
    "                           'R Squared': [rfTree_r2]})\n",
    "resultsDfHP = resultsDfHP[['Model', 'Training Score', 'Validation Score', 'Test Score', 'RMSE', 'R Squared']]\n",
    "\n",
    "resultsDfHP\n"
   ]
  },
  {
   "cell_type": "markdown",
   "metadata": {},
   "source": [
    "##### GridSearchCV\n",
    "\n",
    "#### Optimize the model parameters\n",
    "\n",
    "Apply param grid to the list of hyper parameters of the algorithm(s)\n",
    "Once hyper parameter grid is defined, import grid search CV and fit x_train and y_train\n",
    "Determine the best params and test score"
   ]
  },
  {
   "cell_type": "code",
   "execution_count": 30,
   "metadata": {},
   "outputs": [
    {
     "data": {
      "text/plain": [
       "{'bootstrap': True,\n",
       " 'max_depth': 10,\n",
       " 'max_features': 'log2',\n",
       " 'min_samples_leaf': 1,\n",
       " 'min_samples_split': 5,\n",
       " 'n_estimators': 62}"
      ]
     },
     "execution_count": 30,
     "metadata": {},
     "output_type": "execute_result"
    }
   ],
   "source": [
    "from sklearn.model_selection import GridSearchCV\n",
    "param_grid = {\n",
    "    'bootstrap': [True],\n",
    "    'max_depth': [10],\n",
    "    'max_features': ['log2'],\n",
    "    'min_samples_leaf': [1, 2, 3],\n",
    "    'min_samples_split': [5,10],\n",
    "    'n_estimators': np.arange(50, 71)\n",
    "}\n",
    "rfg = RandomForestRegressor(random_state = 7)\n",
    "\n",
    "grid_search = GridSearchCV(estimator = rfg, param_grid = param_grid, \n",
    "                          cv = kfold, n_jobs = 1, verbose = 0, return_train_score=True)\n",
    "\n",
    "grid_search.fit(X_train, y_train.values.ravel());\n",
    "grid_search.best_params_"
   ]
  },
  {
   "cell_type": "code",
   "execution_count": 31,
   "metadata": {},
   "outputs": [
    {
     "data": {
      "text/html": [
       "<div>\n",
       "<style scoped>\n",
       "    .dataframe tbody tr th:only-of-type {\n",
       "        vertical-align: middle;\n",
       "    }\n",
       "\n",
       "    .dataframe tbody tr th {\n",
       "        vertical-align: top;\n",
       "    }\n",
       "\n",
       "    .dataframe thead th {\n",
       "        text-align: right;\n",
       "    }\n",
       "</style>\n",
       "<table border=\"1\" class=\"dataframe\">\n",
       "  <thead>\n",
       "    <tr style=\"text-align: right;\">\n",
       "      <th></th>\n",
       "      <th>Model</th>\n",
       "      <th>Training Score</th>\n",
       "      <th>Validation Score</th>\n",
       "      <th>Test Score</th>\n",
       "      <th>RMSE</th>\n",
       "      <th>R Squared</th>\n",
       "    </tr>\n",
       "  </thead>\n",
       "  <tbody>\n",
       "    <tr>\n",
       "      <th>0</th>\n",
       "      <td>Random Forest Regressor - RSCV</td>\n",
       "      <td>0.930799</td>\n",
       "      <td>0.821854</td>\n",
       "      <td>0.838834</td>\n",
       "      <td>6.577892</td>\n",
       "      <td>0.838418</td>\n",
       "    </tr>\n",
       "    <tr>\n",
       "      <th>0</th>\n",
       "      <td>Random Forest Regressor - GSCV</td>\n",
       "      <td>0.959913</td>\n",
       "      <td>0.852833</td>\n",
       "      <td>0.863007</td>\n",
       "      <td>6.080145</td>\n",
       "      <td>0.864795</td>\n",
       "    </tr>\n",
       "  </tbody>\n",
       "</table>\n",
       "</div>"
      ],
      "text/plain": [
       "                            Model  Training Score  Validation Score  \\\n",
       "0  Random Forest Regressor - RSCV        0.930799          0.821854   \n",
       "0  Random Forest Regressor - GSCV        0.959913          0.852833   \n",
       "\n",
       "   Test Score      RMSE  R Squared  \n",
       "0    0.838834  6.577892   0.838418  \n",
       "0    0.863007  6.080145   0.864795  "
      ]
     },
     "execution_count": 31,
     "metadata": {},
     "output_type": "execute_result"
    }
   ],
   "source": [
    "# best ensemble model (with optimal combination of hyperparameters)\n",
    "rfTree = grid_search.best_estimator_\n",
    "rfTree.fit(X_train, y_train.values.ravel())\n",
    "rfTree_train_score = rfTree.score(X_train, y_train)\n",
    "rfTree_score = rfTree.score(X_val, y_val)\n",
    "rfTree_rmse = np.sqrt((-1) * cross_val_score(rfTree, X_train, y_train.values.ravel(), cv=kfold, scoring='neg_mean_squared_error').mean())\n",
    "\n",
    "rfTree_r2 = cross_val_score(rfTree, X_train, y_train.values.ravel(), cv=kfold, scoring='r2').mean()\n",
    "\n",
    "rfTree_test_score = rfTree.score(X_test, y_test)\n",
    "\n",
    "#Store the performance metrics for each model in a dataframe for final comparison\n",
    "tempResultsDfHP = pd.DataFrame({'Model': 'Random Forest Regressor - GSCV',\n",
    "                           'Training Score': [rfTree_train_score],\n",
    "                           'Validation Score': [rfTree_score],\n",
    "                           'Test Score': [rfTree_test_score],                                        \n",
    "                           'RMSE': [rfTree_rmse],\n",
    "                           'R Squared': [rfTree_r2]})\n",
    "resultsDfHP = pd.concat([resultsDfHP, tempResultsDfHP])\n",
    "resultsDfHP = resultsDfHP[['Model', 'Training Score', 'Validation Score', 'Test Score', 'RMSE', 'R Squared']]\n",
    "\n",
    "resultsDfHP"
   ]
  },
  {
   "cell_type": "markdown",
   "metadata": {},
   "source": [
    "### Bagging Regressor \n",
    "\n",
    "#### Optimize the model parameters\n",
    "\n",
    "\n",
    "\n",
    "Apply param grid to the list of hyper parameters of the algorithm(s)\n",
    "Once hyper parameter grid is defined, import random search CV and fit x_train and y_train\n",
    "Determine the best params and test score"
   ]
  },
  {
   "cell_type": "markdown",
   "metadata": {},
   "source": [
    "##### RandomSearchCV"
   ]
  },
  {
   "cell_type": "code",
   "execution_count": 32,
   "metadata": {},
   "outputs": [
    {
     "data": {
      "text/plain": [
       "{'base_estimator': None,\n",
       " 'bootstrap': True,\n",
       " 'bootstrap_features': False,\n",
       " 'max_features': 1.0,\n",
       " 'max_samples': 1.0,\n",
       " 'n_estimators': 100,\n",
       " 'n_jobs': None,\n",
       " 'oob_score': False,\n",
       " 'random_state': None,\n",
       " 'verbose': 0,\n",
       " 'warm_start': False}"
      ]
     },
     "execution_count": 32,
     "metadata": {},
     "output_type": "execute_result"
    }
   ],
   "source": [
    "#Get current parameters\n",
    "bgr.get_params()"
   ]
  },
  {
   "cell_type": "code",
   "execution_count": 33,
   "metadata": {},
   "outputs": [],
   "source": [
    "# Create the paramaters grid\n",
    "bgr_params_grid = {'bootstrap': [True, False],\n",
    "               'max_features': [1.0],\n",
    "               'n_estimators': [100]}"
   ]
  },
  {
   "cell_type": "code",
   "execution_count": 34,
   "metadata": {},
   "outputs": [
    {
     "name": "stdout",
     "output_type": "stream",
     "text": [
      "Fitting 10 folds for each of 2 candidates, totalling 20 fits\n"
     ]
    },
    {
     "name": "stderr",
     "output_type": "stream",
     "text": [
      "[Parallel(n_jobs=-1)]: Using backend LokyBackend with 8 concurrent workers.\n",
      "[Parallel(n_jobs=-1)]: Done  16 out of  20 | elapsed:    2.2s remaining:    0.6s\n",
      "[Parallel(n_jobs=-1)]: Done  20 out of  20 | elapsed:    2.5s finished\n"
     ]
    }
   ],
   "source": [
    "bgr_randomCV = RandomizedSearchCV(estimator=bgr, param_distributions=bgr_params_grid,\n",
    "                              n_iter = 5, scoring='neg_mean_absolute_error', \n",
    "                              cv = kfold, verbose=2, random_state=7, n_jobs=-1,\n",
    "                              return_train_score=True)\n",
    "# Fit the random search model\n",
    "bgr_randomCV.fit(X_train, y_train.values.ravel());"
   ]
  },
  {
   "cell_type": "code",
   "execution_count": 35,
   "metadata": {},
   "outputs": [
    {
     "data": {
      "text/html": [
       "<div>\n",
       "<style scoped>\n",
       "    .dataframe tbody tr th:only-of-type {\n",
       "        vertical-align: middle;\n",
       "    }\n",
       "\n",
       "    .dataframe tbody tr th {\n",
       "        vertical-align: top;\n",
       "    }\n",
       "\n",
       "    .dataframe thead th {\n",
       "        text-align: right;\n",
       "    }\n",
       "</style>\n",
       "<table border=\"1\" class=\"dataframe\">\n",
       "  <thead>\n",
       "    <tr style=\"text-align: right;\">\n",
       "      <th></th>\n",
       "      <th>Model</th>\n",
       "      <th>Training Score</th>\n",
       "      <th>Validation Score</th>\n",
       "      <th>Test Score</th>\n",
       "      <th>RMSE</th>\n",
       "      <th>R Squared</th>\n",
       "    </tr>\n",
       "  </thead>\n",
       "  <tbody>\n",
       "    <tr>\n",
       "      <th>0</th>\n",
       "      <td>Random Forest Regressor - RSCV</td>\n",
       "      <td>0.930799</td>\n",
       "      <td>0.821854</td>\n",
       "      <td>0.838834</td>\n",
       "      <td>6.577892</td>\n",
       "      <td>0.838418</td>\n",
       "    </tr>\n",
       "    <tr>\n",
       "      <th>0</th>\n",
       "      <td>Random Forest Regressor - GSCV</td>\n",
       "      <td>0.959913</td>\n",
       "      <td>0.852833</td>\n",
       "      <td>0.863007</td>\n",
       "      <td>6.080145</td>\n",
       "      <td>0.864795</td>\n",
       "    </tr>\n",
       "    <tr>\n",
       "      <th>0</th>\n",
       "      <td>Bagging Regressor - RSCV</td>\n",
       "      <td>0.980611</td>\n",
       "      <td>0.869530</td>\n",
       "      <td>0.878134</td>\n",
       "      <td>5.516107</td>\n",
       "      <td>0.886529</td>\n",
       "    </tr>\n",
       "  </tbody>\n",
       "</table>\n",
       "</div>"
      ],
      "text/plain": [
       "                            Model  Training Score  Validation Score  \\\n",
       "0  Random Forest Regressor - RSCV        0.930799          0.821854   \n",
       "0  Random Forest Regressor - GSCV        0.959913          0.852833   \n",
       "0        Bagging Regressor - RSCV        0.980611          0.869530   \n",
       "\n",
       "   Test Score      RMSE  R Squared  \n",
       "0    0.838834  6.577892   0.838418  \n",
       "0    0.863007  6.080145   0.864795  \n",
       "0    0.878134  5.516107   0.886529  "
      ]
     },
     "execution_count": 35,
     "metadata": {},
     "output_type": "execute_result"
    }
   ],
   "source": [
    "#Model with the optimized hyper parameters\n",
    "bgr = bgr_randomCV.best_estimator_\n",
    "\n",
    "bgr.fit(X_train, y_train)\n",
    "\n",
    "y_pred_bgr = bgr.predict(X_test)\n",
    "\n",
    "\n",
    "bgr_train_score = bgr.score(X_train, y_train)\n",
    "bgr_test_score = bgr.score(X_test, y_test)\n",
    "\n",
    "bgr_score = bgr.score(X_val, y_val)\n",
    "\n",
    "bgr_rmse = np.sqrt((-1) * cross_val_score(bgr, X_train, y_train.values.ravel(), cv=kfold, scoring='neg_mean_squared_error').mean())\n",
    "\n",
    "bgr_r2 = cross_val_score(bgr, X_train, y_train.values.ravel(), cv=kfold, scoring='r2').mean()\n",
    "\n",
    "#Store the performance metrics for each model in a dataframe for final comparison\n",
    "tempResultsDfHP = pd.DataFrame({'Model': 'Bagging Regressor - RSCV',\n",
    "                           'Training Score': [bgr_train_score],\n",
    "                           'Validation Score': [bgr_score],\n",
    "                           'Test Score': [bgr_test_score],           \n",
    "                           'RMSE': [bgr_rmse],\n",
    "                           'R Squared': [bgr_r2]})\n",
    "resultsDfHP = pd.concat([resultsDfHP, tempResultsDfHP])\n",
    "resultsDfHP = resultsDfHP[['Model', 'Training Score', 'Validation Score', 'Test Score', 'RMSE', 'R Squared']]\n",
    "resultsDfHP"
   ]
  },
  {
   "cell_type": "markdown",
   "metadata": {},
   "source": [
    "##### GridSearchCV\n",
    "\n",
    "#### Optimize the model parameters\n",
    "\n",
    "Apply param grid to the list of hyper parameters of the algorithm(s)\n",
    "Once hyper parameter grid is defined, import grid search CV and fit x_train and y_train\n",
    "Determine the best params and test score"
   ]
  },
  {
   "cell_type": "code",
   "execution_count": 36,
   "metadata": {},
   "outputs": [
    {
     "data": {
      "text/plain": [
       "{'bootstrap': True, 'max_features': 1.0, 'n_estimators': 100}"
      ]
     },
     "execution_count": 36,
     "metadata": {},
     "output_type": "execute_result"
    }
   ],
   "source": [
    "bgr_param_grid = {'bootstrap': [True, False],\n",
    "               'max_features': [1.0],\n",
    "               'n_estimators': [100]}\n",
    "bgr = BaggingRegressor(n_estimators=100)\n",
    "\n",
    "grid_search_bgr = GridSearchCV(estimator = bgr, param_grid = bgr_param_grid, \n",
    "                          cv = kfold, n_jobs = 1, verbose = 0, return_train_score=True)\n",
    "\n",
    "grid_search_bgr.fit(X_train, y_train.values.ravel());\n",
    "grid_search_bgr.best_params_"
   ]
  },
  {
   "cell_type": "code",
   "execution_count": 37,
   "metadata": {},
   "outputs": [
    {
     "data": {
      "text/html": [
       "<div>\n",
       "<style scoped>\n",
       "    .dataframe tbody tr th:only-of-type {\n",
       "        vertical-align: middle;\n",
       "    }\n",
       "\n",
       "    .dataframe tbody tr th {\n",
       "        vertical-align: top;\n",
       "    }\n",
       "\n",
       "    .dataframe thead th {\n",
       "        text-align: right;\n",
       "    }\n",
       "</style>\n",
       "<table border=\"1\" class=\"dataframe\">\n",
       "  <thead>\n",
       "    <tr style=\"text-align: right;\">\n",
       "      <th></th>\n",
       "      <th>Model</th>\n",
       "      <th>Training Score</th>\n",
       "      <th>Validation Score</th>\n",
       "      <th>Test Score</th>\n",
       "      <th>RMSE</th>\n",
       "      <th>R Squared</th>\n",
       "    </tr>\n",
       "  </thead>\n",
       "  <tbody>\n",
       "    <tr>\n",
       "      <th>0</th>\n",
       "      <td>Random Forest Regressor - RSCV</td>\n",
       "      <td>0.930799</td>\n",
       "      <td>0.821854</td>\n",
       "      <td>0.838834</td>\n",
       "      <td>6.577892</td>\n",
       "      <td>0.838418</td>\n",
       "    </tr>\n",
       "    <tr>\n",
       "      <th>0</th>\n",
       "      <td>Random Forest Regressor - GSCV</td>\n",
       "      <td>0.959913</td>\n",
       "      <td>0.852833</td>\n",
       "      <td>0.863007</td>\n",
       "      <td>6.080145</td>\n",
       "      <td>0.864795</td>\n",
       "    </tr>\n",
       "    <tr>\n",
       "      <th>0</th>\n",
       "      <td>Bagging Regressor - RSCV</td>\n",
       "      <td>0.980611</td>\n",
       "      <td>0.869530</td>\n",
       "      <td>0.878134</td>\n",
       "      <td>5.516107</td>\n",
       "      <td>0.886529</td>\n",
       "    </tr>\n",
       "    <tr>\n",
       "      <th>0</th>\n",
       "      <td>Bagging Regressor - GSCV</td>\n",
       "      <td>0.980312</td>\n",
       "      <td>0.866009</td>\n",
       "      <td>0.879293</td>\n",
       "      <td>5.558539</td>\n",
       "      <td>0.885615</td>\n",
       "    </tr>\n",
       "  </tbody>\n",
       "</table>\n",
       "</div>"
      ],
      "text/plain": [
       "                            Model  Training Score  Validation Score  \\\n",
       "0  Random Forest Regressor - RSCV        0.930799          0.821854   \n",
       "0  Random Forest Regressor - GSCV        0.959913          0.852833   \n",
       "0        Bagging Regressor - RSCV        0.980611          0.869530   \n",
       "0        Bagging Regressor - GSCV        0.980312          0.866009   \n",
       "\n",
       "   Test Score      RMSE  R Squared  \n",
       "0    0.838834  6.577892   0.838418  \n",
       "0    0.863007  6.080145   0.864795  \n",
       "0    0.878134  5.516107   0.886529  \n",
       "0    0.879293  5.558539   0.885615  "
      ]
     },
     "execution_count": 37,
     "metadata": {},
     "output_type": "execute_result"
    }
   ],
   "source": [
    "bgr = grid_search_bgr.best_estimator_\n",
    "\n",
    "bgr.fit(X_train, y_train)\n",
    "\n",
    "y_pred_bgr = bgr.predict(X_test)\n",
    "\n",
    "\n",
    "bgr_train_score = bgr.score(X_train, y_train)\n",
    "bgr_test_score = bgr.score(X_test, y_test)\n",
    "\n",
    "bgr_score = bgr.score(X_val, y_val)\n",
    "\n",
    "bgr_rmse = np.sqrt((-1) * cross_val_score(bgr, X_train, y_train.values.ravel(), cv=kfold, scoring='neg_mean_squared_error').mean())\n",
    "\n",
    "bgr_r2 = cross_val_score(bgr, X_train, y_train.values.ravel(), cv=kfold, scoring='r2').mean()\n",
    "\n",
    "#Store the performance metrics for each model in a dataframe for final comparison\n",
    "tempResultsDfHP = pd.DataFrame({'Model': 'Bagging Regressor - GSCV',\n",
    "                           'Training Score': [bgr_train_score],\n",
    "                           'Validation Score': [bgr_score],\n",
    "                           'Test Score': [bgr_test_score],           \n",
    "                           'RMSE': [bgr_rmse],\n",
    "                           'R Squared': [bgr_r2]})\n",
    "resultsDfHP = pd.concat([resultsDfHP, tempResultsDfHP])\n",
    "resultsDfHP = resultsDfHP[['Model', 'Training Score', 'Validation Score', 'Test Score', 'RMSE', 'R Squared']]\n",
    "resultsDfHP"
   ]
  },
  {
   "cell_type": "markdown",
   "metadata": {},
   "source": [
    "### Gradient Boost Regressor \n",
    "\n",
    "#### Optimize the model parameters\n",
    "\n",
    "\n",
    "\n",
    "Apply param grid to the list of hyper parameters of the algorithm(s)\n",
    "Once hyper parameter grid is defined, import random search CV and fit x_train and y_train\n",
    "Determine the best params and test score"
   ]
  },
  {
   "cell_type": "markdown",
   "metadata": {},
   "source": [
    "##### RandomSearchCV"
   ]
  },
  {
   "cell_type": "code",
   "execution_count": 40,
   "metadata": {},
   "outputs": [
    {
     "data": {
      "text/plain": [
       "{'base_estimator': None,\n",
       " 'bootstrap': True,\n",
       " 'bootstrap_features': False,\n",
       " 'max_features': 1.0,\n",
       " 'max_samples': 1.0,\n",
       " 'n_estimators': 100,\n",
       " 'n_jobs': None,\n",
       " 'oob_score': False,\n",
       " 'random_state': None,\n",
       " 'verbose': 0,\n",
       " 'warm_start': False}"
      ]
     },
     "execution_count": 40,
     "metadata": {},
     "output_type": "execute_result"
    }
   ],
   "source": [
    "#Get current parameters\n",
    "gbr.get_params()"
   ]
  },
  {
   "cell_type": "code",
   "execution_count": 41,
   "metadata": {},
   "outputs": [],
   "source": [
    "# Create the paramaters grid\n",
    "gbr_params_grid = {'bootstrap': [True, False],\n",
    "               'max_features': [1.0],\n",
    "               'n_estimators': [100],\n",
    "               'random_state': [7],\n",
    "               'warm_start': [True, False]}                  "
   ]
  },
  {
   "cell_type": "code",
   "execution_count": 43,
   "metadata": {},
   "outputs": [
    {
     "name": "stdout",
     "output_type": "stream",
     "text": [
      "Fitting 10 folds for each of 4 candidates, totalling 40 fits\n"
     ]
    },
    {
     "name": "stderr",
     "output_type": "stream",
     "text": [
      "[Parallel(n_jobs=-1)]: Using backend LokyBackend with 8 concurrent workers.\n",
      "[Parallel(n_jobs=-1)]: Done  25 tasks      | elapsed:    3.7s\n",
      "[Parallel(n_jobs=-1)]: Done  40 out of  40 | elapsed:    4.2s finished\n"
     ]
    }
   ],
   "source": [
    "gbr_randomCV = RandomizedSearchCV(estimator=gbr, param_distributions=gbr_params_grid,\n",
    "                              n_iter = 5, scoring='neg_mean_absolute_error', \n",
    "                              cv = kfold, verbose=2, random_state=7, n_jobs=-1,\n",
    "                              return_train_score=True)\n",
    "# Fit the random search model\n",
    "gbr_randomCV.fit(X_train, y_train.values.ravel());"
   ]
  },
  {
   "cell_type": "code",
   "execution_count": null,
   "metadata": {},
   "outputs": [],
   "source": [
    "#Model with the optimized hyper parameters\n",
    "gbr = gbr_randomCV.best_estimator_\n",
    "\n",
    "gbr.fit(X_train, y_train)\n",
    "\n",
    "y_pred_bgr = gbr.predict(X_test)\n",
    "\n",
    "\n",
    "gbr_train_score = gbr.score(X_train, y_train)\n",
    "gbr_test_score = gbr.score(X_test, y_test)\n",
    "\n",
    "gbr_score = gbr.score(X_val, y_val)\n",
    "\n",
    "gbr_rmse = np.sqrt((-1) * cross_val_score(gbr, X_train, y_train.values.ravel(), cv=kfold, scoring='neg_mean_squared_error').mean())\n",
    "\n",
    "gbr_r2 = cross_val_score(gbr, X_train, y_train.values.ravel(), cv=kfold, scoring='r2').mean()\n",
    "\n",
    "#Store the performance metrics for each model in a dataframe for final comparison\n",
    "tempResultsDfHP = pd.DataFrame({'Model': 'Gradient Boost Regressor - RSCV',\n",
    "                           'Training Score': [gbr_train_score],\n",
    "                           'Validation Score': [gbr_score],\n",
    "                           'Test Score': [gbr_test_score],           \n",
    "                           'RMSE': [gbr_rmse],\n",
    "                           'R Squared': [gbr_r2]})\n",
    "resultsDfHP = pd.concat([resultsDfHP, tempResultsDfHP])\n",
    "resultsDfHP = resultsDfHP[['Model', 'Training Score', 'Validation Score', 'Test Score', 'RMSE', 'R Squared']]\n",
    "resultsDfHP"
   ]
  },
  {
   "cell_type": "code",
   "execution_count": 44,
   "metadata": {},
   "outputs": [
    {
     "data": {
      "text/html": [
       "<div>\n",
       "<style scoped>\n",
       "    .dataframe tbody tr th:only-of-type {\n",
       "        vertical-align: middle;\n",
       "    }\n",
       "\n",
       "    .dataframe tbody tr th {\n",
       "        vertical-align: top;\n",
       "    }\n",
       "\n",
       "    .dataframe thead th {\n",
       "        text-align: right;\n",
       "    }\n",
       "</style>\n",
       "<table border=\"1\" class=\"dataframe\">\n",
       "  <thead>\n",
       "    <tr style=\"text-align: right;\">\n",
       "      <th></th>\n",
       "      <th>Model</th>\n",
       "      <th>Training Score</th>\n",
       "      <th>Validation Score</th>\n",
       "      <th>Test Score</th>\n",
       "      <th>RMSE</th>\n",
       "      <th>R Squared</th>\n",
       "    </tr>\n",
       "  </thead>\n",
       "  <tbody>\n",
       "    <tr>\n",
       "      <th>0</th>\n",
       "      <td>Random Forest Regressor - RSCV</td>\n",
       "      <td>0.930799</td>\n",
       "      <td>0.821854</td>\n",
       "      <td>0.838834</td>\n",
       "      <td>6.577892</td>\n",
       "      <td>0.838418</td>\n",
       "    </tr>\n",
       "    <tr>\n",
       "      <th>0</th>\n",
       "      <td>Random Forest Regressor - GSCV</td>\n",
       "      <td>0.959913</td>\n",
       "      <td>0.852833</td>\n",
       "      <td>0.863007</td>\n",
       "      <td>6.080145</td>\n",
       "      <td>0.864795</td>\n",
       "    </tr>\n",
       "    <tr>\n",
       "      <th>0</th>\n",
       "      <td>Bagging Regressor - RSCV</td>\n",
       "      <td>0.980611</td>\n",
       "      <td>0.869530</td>\n",
       "      <td>0.878134</td>\n",
       "      <td>5.516107</td>\n",
       "      <td>0.886529</td>\n",
       "    </tr>\n",
       "    <tr>\n",
       "      <th>0</th>\n",
       "      <td>Bagging Regressor - GSCV</td>\n",
       "      <td>0.980312</td>\n",
       "      <td>0.866009</td>\n",
       "      <td>0.879293</td>\n",
       "      <td>5.558539</td>\n",
       "      <td>0.885615</td>\n",
       "    </tr>\n",
       "    <tr>\n",
       "      <th>0</th>\n",
       "      <td>Gradient Boost Regressor - RSCV</td>\n",
       "      <td>0.980099</td>\n",
       "      <td>0.870951</td>\n",
       "      <td>0.881009</td>\n",
       "      <td>5.545982</td>\n",
       "      <td>0.888365</td>\n",
       "    </tr>\n",
       "  </tbody>\n",
       "</table>\n",
       "</div>"
      ],
      "text/plain": [
       "                             Model  Training Score  Validation Score  \\\n",
       "0   Random Forest Regressor - RSCV        0.930799          0.821854   \n",
       "0   Random Forest Regressor - GSCV        0.959913          0.852833   \n",
       "0         Bagging Regressor - RSCV        0.980611          0.869530   \n",
       "0         Bagging Regressor - GSCV        0.980312          0.866009   \n",
       "0  Gradient Boost Regressor - RSCV        0.980099          0.870951   \n",
       "\n",
       "   Test Score      RMSE  R Squared  \n",
       "0    0.838834  6.577892   0.838418  \n",
       "0    0.863007  6.080145   0.864795  \n",
       "0    0.878134  5.516107   0.886529  \n",
       "0    0.879293  5.558539   0.885615  \n",
       "0    0.881009  5.545982   0.888365  "
      ]
     },
     "execution_count": 44,
     "metadata": {},
     "output_type": "execute_result"
    }
   ],
   "source": [
    "#Model with the optimized hyper parameters\n",
    "gbr2 = gbr_randomCV.best_estimator_\n",
    "\n",
    "gbr2.fit(X_train, y_train)\n",
    "\n",
    "y_pred_gbr = gbr2.predict(X_test)\n",
    "\n",
    "\n",
    "gbr2_train_score = gbr2.score(X_train, y_train)\n",
    "gbr2_test_score = gbr2.score(X_test, y_test)\n",
    "\n",
    "gbr2_score = gbr2.score(X_val, y_val)\n",
    "\n",
    "gbr2_rmse = np.sqrt((-1) * cross_val_score(gbr2, X_train, y_train.values.ravel(), cv=kfold, scoring='neg_mean_squared_error').mean())\n",
    "\n",
    "gbr2_r2 = cross_val_score(gbr2, X_train, y_train.values.ravel(), cv=kfold, scoring='r2').mean()\n",
    "\n",
    "#Store the performance metrics for each model in a dataframe for final comparison\n",
    "tempResultsDfHP = pd.DataFrame({'Model': 'Gradient Boost Regressor - RSCV',\n",
    "                           'Training Score': [gbr2_train_score],\n",
    "                           'Validation Score': [gbr2_score],\n",
    "                           'Test Score': [gbr2_test_score],           \n",
    "                           'RMSE': [gbr2_rmse],\n",
    "                           'R Squared': [gbr2_r2]})\n",
    "resultsDfHP = pd.concat([resultsDfHP, tempResultsDfHP])\n",
    "resultsDfHP = resultsDfHP[['Model', 'Training Score', 'Validation Score', 'Test Score', 'RMSE', 'R Squared']]\n",
    "resultsDfHP\n"
   ]
  },
  {
   "cell_type": "markdown",
   "metadata": {},
   "source": [
    "##### GridSearchCV\n",
    "\n",
    "#### Optimize the model parameters\n",
    "\n",
    "Apply param grid to the list of hyper parameters of the algorithm(s)\n",
    "Once hyper parameter grid is defined, import grid search CV and fit x_train and y_train\n",
    "Determine the best params and test score"
   ]
  },
  {
   "cell_type": "code",
   "execution_count": 45,
   "metadata": {},
   "outputs": [
    {
     "data": {
      "text/plain": [
       "{'bootstrap': True,\n",
       " 'max_features': 1.0,\n",
       " 'n_estimators': 100,\n",
       " 'random_state': 7,\n",
       " 'warm_start': True}"
      ]
     },
     "execution_count": 45,
     "metadata": {},
     "output_type": "execute_result"
    }
   ],
   "source": [
    "gbr_param_grid = {'bootstrap': [True, False],\n",
    "               'max_features': [1.0],\n",
    "               'n_estimators': [100],\n",
    "               'random_state': [7],\n",
    "               'warm_start': [True, False]} \n",
    "\n",
    "grid_search_gbr = GridSearchCV(estimator = gbr, param_grid = gbr_param_grid, \n",
    "                          cv = kfold, n_jobs = 1, verbose = 0, return_train_score=True)\n",
    "\n",
    "grid_search_gbr.fit(X_train, y_train.values.ravel());\n",
    "grid_search_gbr.best_params_"
   ]
  },
  {
   "cell_type": "code",
   "execution_count": 46,
   "metadata": {},
   "outputs": [
    {
     "data": {
      "text/html": [
       "<div>\n",
       "<style scoped>\n",
       "    .dataframe tbody tr th:only-of-type {\n",
       "        vertical-align: middle;\n",
       "    }\n",
       "\n",
       "    .dataframe tbody tr th {\n",
       "        vertical-align: top;\n",
       "    }\n",
       "\n",
       "    .dataframe thead th {\n",
       "        text-align: right;\n",
       "    }\n",
       "</style>\n",
       "<table border=\"1\" class=\"dataframe\">\n",
       "  <thead>\n",
       "    <tr style=\"text-align: right;\">\n",
       "      <th></th>\n",
       "      <th>Model</th>\n",
       "      <th>Training Score</th>\n",
       "      <th>Validation Score</th>\n",
       "      <th>Test Score</th>\n",
       "      <th>RMSE</th>\n",
       "      <th>R Squared</th>\n",
       "    </tr>\n",
       "  </thead>\n",
       "  <tbody>\n",
       "    <tr>\n",
       "      <th>0</th>\n",
       "      <td>Random Forest Regressor - RSCV</td>\n",
       "      <td>0.930799</td>\n",
       "      <td>0.821854</td>\n",
       "      <td>0.838834</td>\n",
       "      <td>6.577892</td>\n",
       "      <td>0.838418</td>\n",
       "    </tr>\n",
       "    <tr>\n",
       "      <th>0</th>\n",
       "      <td>Random Forest Regressor - GSCV</td>\n",
       "      <td>0.959913</td>\n",
       "      <td>0.852833</td>\n",
       "      <td>0.863007</td>\n",
       "      <td>6.080145</td>\n",
       "      <td>0.864795</td>\n",
       "    </tr>\n",
       "    <tr>\n",
       "      <th>0</th>\n",
       "      <td>Bagging Regressor - RSCV</td>\n",
       "      <td>0.980611</td>\n",
       "      <td>0.869530</td>\n",
       "      <td>0.878134</td>\n",
       "      <td>5.516107</td>\n",
       "      <td>0.886529</td>\n",
       "    </tr>\n",
       "    <tr>\n",
       "      <th>0</th>\n",
       "      <td>Bagging Regressor - GSCV</td>\n",
       "      <td>0.980312</td>\n",
       "      <td>0.866009</td>\n",
       "      <td>0.879293</td>\n",
       "      <td>5.558539</td>\n",
       "      <td>0.885615</td>\n",
       "    </tr>\n",
       "    <tr>\n",
       "      <th>0</th>\n",
       "      <td>Gradient Boost Regressor - RSCV</td>\n",
       "      <td>0.980099</td>\n",
       "      <td>0.870951</td>\n",
       "      <td>0.881009</td>\n",
       "      <td>5.545982</td>\n",
       "      <td>0.888365</td>\n",
       "    </tr>\n",
       "    <tr>\n",
       "      <th>0</th>\n",
       "      <td>Gradient Boost Regressor - GSCV</td>\n",
       "      <td>0.980099</td>\n",
       "      <td>0.870951</td>\n",
       "      <td>0.881009</td>\n",
       "      <td>5.545982</td>\n",
       "      <td>0.888365</td>\n",
       "    </tr>\n",
       "  </tbody>\n",
       "</table>\n",
       "</div>"
      ],
      "text/plain": [
       "                             Model  Training Score  Validation Score  \\\n",
       "0   Random Forest Regressor - RSCV        0.930799          0.821854   \n",
       "0   Random Forest Regressor - GSCV        0.959913          0.852833   \n",
       "0         Bagging Regressor - RSCV        0.980611          0.869530   \n",
       "0         Bagging Regressor - GSCV        0.980312          0.866009   \n",
       "0  Gradient Boost Regressor - RSCV        0.980099          0.870951   \n",
       "0  Gradient Boost Regressor - GSCV        0.980099          0.870951   \n",
       "\n",
       "   Test Score      RMSE  R Squared  \n",
       "0    0.838834  6.577892   0.838418  \n",
       "0    0.863007  6.080145   0.864795  \n",
       "0    0.878134  5.516107   0.886529  \n",
       "0    0.879293  5.558539   0.885615  \n",
       "0    0.881009  5.545982   0.888365  \n",
       "0    0.881009  5.545982   0.888365  "
      ]
     },
     "execution_count": 46,
     "metadata": {},
     "output_type": "execute_result"
    }
   ],
   "source": [
    "#Model with the optimized hyper parameters\n",
    "gbr3 = grid_search_gbr.best_estimator_\n",
    "\n",
    "gbr3.fit(X_train, y_train)\n",
    "\n",
    "y_pred_gbr3 = gbr3.predict(X_test)\n",
    "\n",
    "\n",
    "gbr3_train_score = gbr3.score(X_train, y_train)\n",
    "gbr3_test_score = gbr3.score(X_test, y_test)\n",
    "\n",
    "gbr3_score = gbr3.score(X_val, y_val)\n",
    "\n",
    "gbr3_rmse = np.sqrt((-1) * cross_val_score(gbr3, X_train, y_train.values.ravel(), cv=kfold, scoring='neg_mean_squared_error').mean())\n",
    "\n",
    "gbr3_r2 = cross_val_score(gbr3, X_train, y_train.values.ravel(), cv=kfold, scoring='r2').mean()\n",
    "\n",
    "#Store the performance metrics for each model in a dataframe for final comparison\n",
    "tempResultsDfHP = pd.DataFrame({'Model': 'Gradient Boost Regressor - GSCV',\n",
    "                           'Training Score': [gbr3_train_score],\n",
    "                           'Validation Score': [gbr3_score],\n",
    "                           'Test Score': [gbr3_test_score],           \n",
    "                           'RMSE': [gbr3_rmse],\n",
    "                           'R Squared': [gbr3_r2]})\n",
    "resultsDfHP = pd.concat([resultsDfHP, tempResultsDfHP])\n",
    "resultsDfHP = resultsDfHP[['Model', 'Training Score', 'Validation Score', 'Test Score', 'RMSE', 'R Squared']]\n",
    "resultsDfHP"
   ]
  },
  {
   "cell_type": "markdown",
   "metadata": {},
   "source": [
    "#### Conclusion"
   ]
  },
  {
   "cell_type": "markdown",
   "metadata": {},
   "source": [
    "The optimized randomized search Gradient Boost Regressor has the highest test score and would be the recommended model for predicting concrete strength. "
   ]
  }
 ],
 "metadata": {
  "kernelspec": {
   "display_name": "Python 3",
   "language": "python",
   "name": "python3"
  },
  "language_info": {
   "codemirror_mode": {
    "name": "ipython",
    "version": 3
   },
   "file_extension": ".py",
   "mimetype": "text/x-python",
   "name": "python",
   "nbconvert_exporter": "python",
   "pygments_lexer": "ipython3",
   "version": "3.8.3"
  }
 },
 "nbformat": 4,
 "nbformat_minor": 4
}
